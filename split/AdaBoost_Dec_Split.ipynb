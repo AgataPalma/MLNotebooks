{
 "cells": [
  {
   "cell_type": "code",
   "execution_count": 1,
   "id": "e3db920f-439e-4f72-ba58-2efea565508c",
   "metadata": {
    "editable": true,
    "slideshow": {
     "slide_type": ""
    },
    "tags": []
   },
   "outputs": [],
   "source": [
    "import pandas as pd\n",
    "from sklearn.model_selection import cross_val_score, StratifiedKFold, cross_val_predict, train_test_split\n",
    "from sklearn.ensemble import AdaBoostClassifier\n",
    "from sklearn.metrics import classification_report, make_scorer, f1_score\n",
    "from sklearn.tree import DecisionTreeClassifier\n",
    "from sklearn.preprocessing import LabelEncoder, StandardScaler\n",
    "import optuna\n",
    "from datetime import datetime\n",
    "import time"
   ]
  },
  {
   "cell_type": "code",
   "execution_count": 2,
   "id": "2f699be2-d551-4c15-8da0-aac68a522dba",
   "metadata": {},
   "outputs": [
    {
     "name": "stdout",
     "output_type": "stream",
     "text": [
      "Notebook started at: 2025-01-19 17:42:54.406728\n"
     ]
    }
   ],
   "source": [
    "notebook_start_time = datetime.now()\n",
    "print(f\"Notebook started at: {notebook_start_time}\")\n",
    "\n",
    "#Decimal Dataset\n",
    "df = pd.read_csv('complete_decimal_dataset.csv')"
   ]
  },
  {
   "cell_type": "code",
   "execution_count": 3,
   "id": "8eac1155-c3c7-4439-b944-74d0996a634c",
   "metadata": {},
   "outputs": [],
   "source": [
    "#Encoding target variable\n",
    "label_encoder = LabelEncoder()\n",
    "df['specific_class_encoded'] = label_encoder.fit_transform(df['specific_class'])\n",
    "\n",
    "#Preparing features and target\n",
    "X = df.drop(columns=['label', 'category', 'specific_class', 'specific_class_encoded'])\n",
    "y = df['specific_class_encoded']\n",
    "\n",
    "#Scaling features\n",
    "scaler = StandardScaler()\n",
    "X_scaled = scaler.fit_transform(X)"
   ]
  },
  {
   "cell_type": "code",
   "execution_count": 4,
   "id": "35d95874-54ef-4f38-b79a-270a210ce8cd",
   "metadata": {
    "editable": true,
    "slideshow": {
     "slide_type": ""
    },
    "tags": []
   },
   "outputs": [],
   "source": [
    "#Training and testing sets Splits (80/20 split)\n",
    "X_train, X_test, y_train, y_test = train_test_split(X_scaled, y, test_size=0.2, random_state=42)\n",
    "\n",
    "# Optimization function for AdaBoost\n",
    "def optimize_adaboost(trial):\n",
    "    # Hyperparameters\n",
    "    n_estimators = trial.suggest_int('n_estimators', 50, 500)\n",
    "    learning_rate = trial.suggest_float('learning_rate', 0.01, 1.0, log=True)\n",
    "\n",
    "    clf = AdaBoostClassifier(n_estimators=n_estimators, learning_rate=learning_rate, random_state=42)\n",
    "    \n",
    "    kfold = StratifiedKFold(n_splits=5, shuffle=True, random_state=42)  \n",
    "    #scores = cross_val_score(clf, X_train, y_train, cv=kfold, scoring='accuracy', n_jobs=-1)\n",
    "    scorer = make_scorer(f1_score, average='macro')\n",
    "    scores = cross_val_score(clf, X_train, y_train, cv=kfold, scoring=scorer, n_jobs=-1)\n",
    "\n",
    "    return scores.mean()\n",
    "            "
   ]
  },
  {
   "cell_type": "code",
   "execution_count": 5,
   "id": "b6b8559e-aa5d-43ba-aa97-0af0a3662470",
   "metadata": {},
   "outputs": [
    {
     "name": "stderr",
     "output_type": "stream",
     "text": [
      "[I 2025-01-19 17:42:56,354] A new study created in memory with name: no-name-c6df9de9-5ae8-47e9-a43a-e865a6472a0f\n",
      "[I 2025-01-19 18:14:23,599] Trial 9 finished with value: 0.5872203250271897 and parameters: {'n_estimators': 55, 'learning_rate': 0.14440915076113775}. Best is trial 9 with value: 0.5872203250271897.\n",
      "[I 2025-01-19 18:35:50,704] Trial 8 finished with value: 0.7411036966675759 and parameters: {'n_estimators': 344, 'learning_rate': 0.07088026608515903}. Best is trial 8 with value: 0.7411036966675759.\n",
      "[I 2025-01-19 18:39:40,377] Trial 0 finished with value: 0.3934949992002785 and parameters: {'n_estimators': 322, 'learning_rate': 0.017243093905740182}. Best is trial 8 with value: 0.7411036966675759.\n",
      "[I 2025-01-19 18:51:51,087] Trial 1 finished with value: 0.8605197572935183 and parameters: {'n_estimators': 152, 'learning_rate': 0.7049253235310126}. Best is trial 1 with value: 0.8605197572935183.\n",
      "[I 2025-01-19 19:01:55,748] Trial 7 finished with value: 0.8960872887784042 and parameters: {'n_estimators': 169, 'learning_rate': 0.22031826639728547}. Best is trial 7 with value: 0.8960872887784042.\n",
      "[I 2025-01-19 19:08:36,043] Trial 6 finished with value: 0.7805234650209167 and parameters: {'n_estimators': 408, 'learning_rate': 0.3774029273440712}. Best is trial 7 with value: 0.8960872887784042.\n",
      "[I 2025-01-19 19:12:54,661] Trial 3 finished with value: 0.5928681037135213 and parameters: {'n_estimators': 314, 'learning_rate': 0.024351785423503775}. Best is trial 7 with value: 0.8960872887784042.\n",
      "[I 2025-01-19 19:15:29,399] Trial 2 finished with value: 0.8110461083748032 and parameters: {'n_estimators': 332, 'learning_rate': 0.2884205321659097}. Best is trial 7 with value: 0.8960872887784042.\n",
      "[I 2025-01-19 19:16:08,335] Trial 5 finished with value: 0.6464178388899925 and parameters: {'n_estimators': 305, 'learning_rate': 0.9700371510557416}. Best is trial 7 with value: 0.8960872887784042.\n",
      "[I 2025-01-19 19:16:36,281] Trial 4 finished with value: 0.5509195857780808 and parameters: {'n_estimators': 390, 'learning_rate': 0.033007305594705466}. Best is trial 7 with value: 0.8960872887784042.\n"
     ]
    }
   ],
   "source": [
    "#AdaBoost hyperparameters optimization using Optuna\n",
    "study = optuna.create_study(direction='maximize')\n",
    "study.optimize(optimize_adaboost, n_trials=10, n_jobs=-1)"
   ]
  },
  {
   "cell_type": "code",
   "execution_count": 6,
   "id": "f7f9e534-718f-46b0-bd50-daceb5d0e678",
   "metadata": {},
   "outputs": [
    {
     "name": "stdout",
     "output_type": "stream",
     "text": [
      "Best parameters for AdaBoost: {'n_estimators': 169, 'learning_rate': 0.22031826639728547}\n"
     ]
    }
   ],
   "source": [
    "print(f\"Best parameters for AdaBoost: {study.best_params}\")"
   ]
  },
  {
   "cell_type": "code",
   "execution_count": 7,
   "id": "b7993877-a4df-4d49-818e-83bdc402f364",
   "metadata": {},
   "outputs": [],
   "source": [
    "#Train and evaluate optimized AdaBoost model\n",
    "#best_params = study.best_params\n",
    "#optimized_adaboost = AdaBoostClassifier(**best_params, random_state=42)"
   ]
  },
  {
   "cell_type": "code",
   "execution_count": 8,
   "id": "a4cc5530-d3a8-424a-a63e-f7aebea89d56",
   "metadata": {
    "editable": true,
    "slideshow": {
     "slide_type": ""
    },
    "tags": []
   },
   "outputs": [
    {
     "name": "stderr",
     "output_type": "stream",
     "text": [
      "C:\\Users\\FX505\\Documents\\tese_env\\Lib\\site-packages\\sklearn\\ensemble\\_weight_boosting.py:527: FutureWarning: The SAMME.R algorithm (the default) is deprecated and will be removed in 1.6. Use the SAMME algorithm to circumvent this warning.\n",
      "  warnings.warn(\n"
     ]
    },
    {
     "name": "stdout",
     "output_type": "stream",
     "text": [
      "Model training time: 191.41 seconds\n",
      "Classification Report on Test Set:\n",
      "              precision    recall  f1-score   support\n",
      "\n",
      "           0       0.98      1.00      0.99    244790\n",
      "           1       1.00      1.00      1.00     15021\n",
      "           2       1.00      1.00      1.00      1974\n",
      "           3       1.00      0.91      0.95     10902\n",
      "           4       0.84      1.00      0.91      4968\n",
      "           5       0.00      0.00      0.00      3989\n",
      "\n",
      "    accuracy                           0.98    281644\n",
      "   macro avg       0.80      0.82      0.81    281644\n",
      "weighted avg       0.97      0.98      0.98    281644\n",
      "\n"
     ]
    },
    {
     "name": "stderr",
     "output_type": "stream",
     "text": [
      "C:\\Users\\FX505\\Documents\\tese_env\\Lib\\site-packages\\sklearn\\metrics\\_classification.py:1531: UndefinedMetricWarning: Precision is ill-defined and being set to 0.0 in labels with no predicted samples. Use `zero_division` parameter to control this behavior.\n",
      "  _warn_prf(average, modifier, f\"{metric.capitalize()} is\", len(result))\n",
      "C:\\Users\\FX505\\Documents\\tese_env\\Lib\\site-packages\\sklearn\\metrics\\_classification.py:1531: UndefinedMetricWarning: Precision is ill-defined and being set to 0.0 in labels with no predicted samples. Use `zero_division` parameter to control this behavior.\n",
      "  _warn_prf(average, modifier, f\"{metric.capitalize()} is\", len(result))\n",
      "C:\\Users\\FX505\\Documents\\tese_env\\Lib\\site-packages\\sklearn\\metrics\\_classification.py:1531: UndefinedMetricWarning: Precision is ill-defined and being set to 0.0 in labels with no predicted samples. Use `zero_division` parameter to control this behavior.\n",
      "  _warn_prf(average, modifier, f\"{metric.capitalize()} is\", len(result))\n"
     ]
    }
   ],
   "source": [
    "#best model training on the entire training set and evaluate on the test set\n",
    "best_params = study.best_params\n",
    "\n",
    "final_model = AdaBoostClassifier(\n",
    "    n_estimators=best_params['n_estimators'],\n",
    "    learning_rate=best_params['learning_rate'],\n",
    "    random_state=42\n",
    ")\n",
    "start_time = time.time()\n",
    "final_model.fit(X_train, y_train)\n",
    "end_time = time.time()\n",
    "\n",
    "training_duration = end_time - start_time\n",
    "print(f\"Model training time: {training_duration:.2f} seconds\")\n",
    "\n",
    "y_pred = final_model.predict(X_test)\n",
    "\n",
    "#Classification report on test data\n",
    "print(\"Classification Report on Test Set:\")\n",
    "print(classification_report(y_test, y_pred))"
   ]
  },
  {
   "cell_type": "code",
   "execution_count": 9,
   "id": "2c080090-2d01-4521-8592-4d66494b7e5a",
   "metadata": {},
   "outputs": [
    {
     "name": "stdout",
     "output_type": "stream",
     "text": [
      "Notebook ended at: 2025-01-19 19:19:56.546362\n",
      "Total notebook runtime: 1:37:02.139634\n"
     ]
    }
   ],
   "source": [
    "# Log the end time\n",
    "notebook_end_time = datetime.now()\n",
    "print(f\"Notebook ended at: {notebook_end_time}\")\n",
    "\n",
    "# Calculate the total duration\n",
    "notebook_duration = notebook_end_time - notebook_start_time\n",
    "print(f\"Total notebook runtime: {notebook_duration}\")\n"
   ]
  },
  {
   "cell_type": "code",
   "execution_count": 11,
   "id": "9e434e34-7449-41af-9f17-33b60a91721d",
   "metadata": {
    "editable": true,
    "slideshow": {
     "slide_type": ""
    },
    "tags": []
   },
   "outputs": [
    {
     "name": "stdout",
     "output_type": "stream",
     "text": [
      "Training Accuracy: 0.98, Test Accuracy: 0.98\n",
      "Training F1 Score: 0.81, Test F1 Score: 0.81\n",
      "Test set performs better than training.\n",
      "\n",
      "Classification Report (Training):\n"
     ]
    },
    {
     "name": "stderr",
     "output_type": "stream",
     "text": [
      "C:\\Users\\FX505\\Documents\\tese_env\\Lib\\site-packages\\sklearn\\metrics\\_classification.py:1531: UndefinedMetricWarning: Precision is ill-defined and being set to 0.0 in labels with no predicted samples. Use `zero_division` parameter to control this behavior.\n",
      "  _warn_prf(average, modifier, f\"{metric.capitalize()} is\", len(result))\n",
      "C:\\Users\\FX505\\Documents\\tese_env\\Lib\\site-packages\\sklearn\\metrics\\_classification.py:1531: UndefinedMetricWarning: Precision is ill-defined and being set to 0.0 in labels with no predicted samples. Use `zero_division` parameter to control this behavior.\n",
      "  _warn_prf(average, modifier, f\"{metric.capitalize()} is\", len(result))\n",
      "C:\\Users\\FX505\\Documents\\tese_env\\Lib\\site-packages\\sklearn\\metrics\\_classification.py:1531: UndefinedMetricWarning: Precision is ill-defined and being set to 0.0 in labels with no predicted samples. Use `zero_division` parameter to control this behavior.\n",
      "  _warn_prf(average, modifier, f\"{metric.capitalize()} is\", len(result))\n",
      "C:\\Users\\FX505\\Documents\\tese_env\\Lib\\site-packages\\sklearn\\metrics\\_classification.py:1531: UndefinedMetricWarning: Precision is ill-defined and being set to 0.0 in labels with no predicted samples. Use `zero_division` parameter to control this behavior.\n",
      "  _warn_prf(average, modifier, f\"{metric.capitalize()} is\", len(result))\n"
     ]
    },
    {
     "name": "stdout",
     "output_type": "stream",
     "text": [
      "              precision    recall  f1-score   support\n",
      "\n",
      "           0       0.98      1.00      0.99    978947\n",
      "           1       1.00      1.00      1.00     59642\n",
      "           2       1.00      1.00      1.00      8017\n",
      "           3       1.00      0.91      0.95     43998\n",
      "           4       0.83      1.00      0.91     19983\n",
      "           5       0.00      0.00      0.00     15988\n",
      "\n",
      "    accuracy                           0.98   1126575\n",
      "   macro avg       0.80      0.82      0.81   1126575\n",
      "weighted avg       0.97      0.98      0.98   1126575\n",
      "\n",
      "Classification Report (Test):\n",
      "              precision    recall  f1-score   support\n",
      "\n",
      "           0       0.98      1.00      0.99    244790\n",
      "           1       1.00      1.00      1.00     15021\n",
      "           2       1.00      1.00      1.00      1974\n",
      "           3       1.00      0.91      0.95     10902\n",
      "           4       0.84      1.00      0.91      4968\n",
      "           5       0.00      0.00      0.00      3989\n",
      "\n",
      "    accuracy                           0.98    281644\n",
      "   macro avg       0.80      0.82      0.81    281644\n",
      "weighted avg       0.97      0.98      0.98    281644\n",
      "\n"
     ]
    },
    {
     "name": "stderr",
     "output_type": "stream",
     "text": [
      "C:\\Users\\FX505\\Documents\\tese_env\\Lib\\site-packages\\sklearn\\metrics\\_classification.py:1531: UndefinedMetricWarning: Precision is ill-defined and being set to 0.0 in labels with no predicted samples. Use `zero_division` parameter to control this behavior.\n",
      "  _warn_prf(average, modifier, f\"{metric.capitalize()} is\", len(result))\n",
      "C:\\Users\\FX505\\Documents\\tese_env\\Lib\\site-packages\\sklearn\\metrics\\_classification.py:1531: UndefinedMetricWarning: Precision is ill-defined and being set to 0.0 in labels with no predicted samples. Use `zero_division` parameter to control this behavior.\n",
      "  _warn_prf(average, modifier, f\"{metric.capitalize()} is\", len(result))\n"
     ]
    }
   ],
   "source": [
    "from sklearn.metrics import classification_report,accuracy_score, make_scorer, precision_score, recall_score, f1_score\n",
    "\n",
    "#Evaluate on training set\n",
    "y_train_pred = final_model.predict(X_train)\n",
    "train_accuracy = accuracy_score(y_train, y_train_pred)\n",
    "train_f1 = f1_score(y_train, y_train_pred, average=\"macro\")\n",
    "\n",
    "#Evaluate on test set\n",
    "y_test_pred = final_model.predict(X_test)\n",
    "test_accuracy = accuracy_score(y_test, y_test_pred)\n",
    "test_f1 = f1_score(y_test, y_test_pred, average=\"macro\")\n",
    "\n",
    "\n",
    "#Compare results\n",
    "print(f\"Training Accuracy: {train_accuracy:.2f}, Test Accuracy: {test_accuracy:.2f}\")\n",
    "print(f\"Training F1 Score: {train_f1:.2f}, Test F1 Score: {test_f1:.2f}\")\n",
    "\n",
    "if train_accuracy > test_accuracy:\n",
    "    print(\"The model might be overfitting.\")\n",
    "elif train_accuracy < test_accuracy:\n",
    "    print(\"Test set performs better than training.\")\n",
    "else:\n",
    "    print(\"Training and test performance are comparable.\")\n",
    "\n",
    "#Classification reports\n",
    "print(\"\\nClassification Report (Training):\")\n",
    "print(classification_report(y_train, y_train_pred))\n",
    "\n",
    "print(\"Classification Report (Test):\")\n",
    "print(classification_report(y_test, y_test_pred))"
   ]
  },
  {
   "cell_type": "code",
   "execution_count": null,
   "id": "81e540e9-ee38-4e11-a985-6130e1dbe8cc",
   "metadata": {},
   "outputs": [],
   "source": []
  }
 ],
 "metadata": {
  "kernelspec": {
   "display_name": "Python 3 (ipykernel)",
   "language": "python",
   "name": "python3"
  },
  "language_info": {
   "codemirror_mode": {
    "name": "ipython",
    "version": 3
   },
   "file_extension": ".py",
   "mimetype": "text/x-python",
   "name": "python",
   "nbconvert_exporter": "python",
   "pygments_lexer": "ipython3",
   "version": "3.12.7"
  }
 },
 "nbformat": 4,
 "nbformat_minor": 5
}
