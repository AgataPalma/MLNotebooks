{
 "cells": [
  {
   "cell_type": "code",
   "execution_count": 1,
   "id": "855db9d9-2ccf-4d08-900e-4c9d92340699",
   "metadata": {
    "editable": true,
    "slideshow": {
     "slide_type": ""
    },
    "tags": []
   },
   "outputs": [],
   "source": [
    "#Imports\n",
    "import pandas as pd\n",
    "from sklearn.model_selection import StratifiedKFold, cross_val_score, cross_val_predict, train_test_split\n",
    "from sklearn.ensemble import RandomForestClassifier\n",
    "from sklearn.metrics import classification_report,accuracy_score, make_scorer, precision_score, recall_score, f1_score\n",
    "from sklearn.preprocessing import LabelEncoder, StandardScaler\n",
    "import optuna\n",
    "from datetime import datetime\n",
    "import time"
   ]
  },
  {
   "cell_type": "code",
   "execution_count": 2,
   "id": "2897c231-c33d-42bd-bbac-398b6572778a",
   "metadata": {
    "editable": true,
    "slideshow": {
     "slide_type": ""
    },
    "tags": []
   },
   "outputs": [],
   "source": [
    "#Load Dataset\n",
    "df = pd.read_csv('complete_decimal_dataset.csv')"
   ]
  },
  {
   "cell_type": "code",
   "execution_count": 3,
   "id": "2a4eb970-07b7-41b9-a2ee-1bcc50b705c5",
   "metadata": {
    "editable": true,
    "slideshow": {
     "slide_type": ""
    },
    "tags": []
   },
   "outputs": [],
   "source": [
    "#Data Preprocessing\n",
    "label_encoder = LabelEncoder()\n",
    "df['specific_class_encoded'] = label_encoder.fit_transform(df['specific_class'])\n",
    "\n",
    "X_full = df.drop(columns=['label', 'category', 'specific_class', 'specific_class_encoded'])\n",
    "y_full = df['specific_class_encoded']\n",
    "\n",
    "scaler = StandardScaler()\n",
    "X_full_scaled = scaler.fit_transform(X_full)"
   ]
  },
  {
   "cell_type": "code",
   "execution_count": 4,
   "id": "e36fb09f-6a7a-4723-891d-0839db2163c8",
   "metadata": {},
   "outputs": [],
   "source": [
    "#Train/Test Split\n",
    "X_train, X_test, y_train, y_test = train_test_split(X_full_scaled, y_full, test_size=0.2, random_state=42)"
   ]
  },
  {
   "cell_type": "code",
   "execution_count": 5,
   "id": "6896b3fd-caff-4b79-b4d8-037e3574952a",
   "metadata": {
    "editable": true,
    "slideshow": {
     "slide_type": ""
    },
    "tags": []
   },
   "outputs": [],
   "source": [
    "#Optimization Function\n",
    "def optimize_random_forest(trial):\n",
    "    n_estimators = trial.suggest_int('n_estimators', 50, 200)\n",
    "    max_depth = trial.suggest_int('max_depth', 2, 32, log=True)\n",
    "    min_samples_split = trial.suggest_int('min_samples_split', 2, 10)\n",
    "    \n",
    "    rf_model = RandomForestClassifier(\n",
    "        n_estimators=n_estimators, \n",
    "        max_depth=max_depth, \n",
    "        min_samples_split=min_samples_split, \n",
    "        random_state=42,\n",
    "        n_jobs=-1\n",
    "    )\n",
    "\n",
    "    #5-Fold CV\n",
    "    stratified_kfold = StratifiedKFold(n_splits=5, shuffle=True, random_state=42)  \n",
    "    scorer = make_scorer(f1_score, average='macro')\n",
    "    scores = cross_val_score(rf_model, X_train, y_train, cv=stratified_kfold, scoring=scorer, n_jobs=-1).mean()\n",
    "    return scores\n"
   ]
  },
  {
   "cell_type": "code",
   "execution_count": 6,
   "id": "2799fcd2-92fb-48c2-b57f-0cf1e71c8ec3",
   "metadata": {
    "editable": true,
    "slideshow": {
     "slide_type": ""
    },
    "tags": []
   },
   "outputs": [
    {
     "name": "stderr",
     "output_type": "stream",
     "text": [
      "[I 2025-01-27 17:00:33,976] A new study created in memory with name: no-name-7ace95d7-0736-49c7-a7b1-50b74fda3190\n",
      "[I 2025-01-27 17:03:59,623] Trial 0 finished with value: 0.9999801739325107 and parameters: {'n_estimators': 135, 'max_depth': 27, 'min_samples_split': 9}. Best is trial 0 with value: 0.9999801739325107.\n",
      "[I 2025-01-27 17:06:10,909] Trial 1 finished with value: 0.8347057732161935 and parameters: {'n_estimators': 95, 'max_depth': 4, 'min_samples_split': 7}. Best is trial 0 with value: 0.9999801739325107.\n",
      "[I 2025-01-27 17:08:15,024] Trial 2 finished with value: 0.9999485626547765 and parameters: {'n_estimators': 88, 'max_depth': 5, 'min_samples_split': 9}. Best is trial 0 with value: 0.9999801739325107.\n",
      "[I 2025-01-27 17:11:01,704] Trial 3 finished with value: 1.0 and parameters: {'n_estimators': 112, 'max_depth': 25, 'min_samples_split': 2}. Best is trial 3 with value: 1.0.\n",
      "[I 2025-01-27 17:14:38,708] Trial 4 finished with value: 0.4119650045953261 and parameters: {'n_estimators': 176, 'max_depth': 3, 'min_samples_split': 3}. Best is trial 3 with value: 1.0.\n",
      "[I 2025-01-27 17:17:43,236] Trial 5 finished with value: 0.9999801739325107 and parameters: {'n_estimators': 125, 'max_depth': 27, 'min_samples_split': 9}. Best is trial 3 with value: 1.0.\n",
      "[I 2025-01-27 17:21:04,967] Trial 6 finished with value: 0.9999801739325107 and parameters: {'n_estimators': 137, 'max_depth': 18, 'min_samples_split': 10}. Best is trial 3 with value: 1.0.\n",
      "[I 2025-01-27 17:22:37,748] Trial 7 finished with value: 0.9999801739325107 and parameters: {'n_estimators': 61, 'max_depth': 23, 'min_samples_split': 9}. Best is trial 3 with value: 1.0.\n",
      "[I 2025-01-27 17:27:17,102] Trial 8 finished with value: 1.0 and parameters: {'n_estimators': 189, 'max_depth': 8, 'min_samples_split': 2}. Best is trial 3 with value: 1.0.\n",
      "[I 2025-01-27 17:31:04,164] Trial 9 finished with value: 0.9999955525136752 and parameters: {'n_estimators': 155, 'max_depth': 7, 'min_samples_split': 4}. Best is trial 3 with value: 1.0.\n"
     ]
    }
   ],
   "source": [
    "#Optuna study with stratified cross-validation\n",
    "study_rf = optuna.create_study(direction=\"maximize\")\n",
    "study_rf.optimize(optimize_random_forest, n_trials=10)"
   ]
  },
  {
   "cell_type": "code",
   "execution_count": 7,
   "id": "676eede9-42d0-4acb-968b-9bf38da9282a",
   "metadata": {},
   "outputs": [
    {
     "name": "stdout",
     "output_type": "stream",
     "text": [
      "Best parameters for Random Forest: {'n_estimators': 112, 'max_depth': 25, 'min_samples_split': 2}\n"
     ]
    }
   ],
   "source": [
    "#Best hyperparameters\n",
    "print(f\"Best parameters for Random Forest: {study_rf.best_params}\")"
   ]
  },
  {
   "cell_type": "code",
   "execution_count": 9,
   "id": "4aebb13b-0ad7-4b23-b980-a478cc04df51",
   "metadata": {
    "editable": true,
    "slideshow": {
     "slide_type": ""
    },
    "tags": []
   },
   "outputs": [],
   "source": [
    "#Final model training on the training set with optimized hyperparameters\n",
    "best_params = study_rf.best_params\n",
    "final_model = RandomForestClassifier(\n",
    "    n_estimators=best_params['n_estimators'],\n",
    "    max_depth=best_params['max_depth'],\n",
    "    min_samples_split=best_params['min_samples_split'],\n",
    "    random_state=42\n",
    ")\n",
    "\n",
    "start_time = time.time()\n",
    "#Train\n",
    "final_model.fit(X_train, y_train)\n",
    "end_time = time.time()\n"
   ]
  },
  {
   "cell_type": "code",
   "execution_count": 10,
   "id": "5a4482d9-e590-41b7-8c75-c3971bfa2449",
   "metadata": {
    "editable": true,
    "slideshow": {
     "slide_type": ""
    },
    "tags": []
   },
   "outputs": [
    {
     "name": "stdout",
     "output_type": "stream",
     "text": [
      "Model training time: 120.16 seconds\n"
     ]
    }
   ],
   "source": [
    "#Evaluate the time it takes to train the model\n",
    "training_duration = end_time - start_time\n",
    "print(f\"Model training time: {training_duration:.2f} seconds\")\n"
   ]
  },
  {
   "cell_type": "code",
   "execution_count": 11,
   "id": "6d160493-34d9-422e-924d-05ac3f59b81f",
   "metadata": {
    "editable": true,
    "slideshow": {
     "slide_type": ""
    },
    "tags": []
   },
   "outputs": [
    {
     "name": "stdout",
     "output_type": "stream",
     "text": [
      "Training Accuracy: 1.00, Test Accuracy: 1.00\n",
      "Training F1 Score: 1.00, Test F1 Score: 1.00\n",
      "Training and test performance are comparable.\n",
      "\n",
      "Classification Report (Training):\n",
      "              precision    recall  f1-score   support\n",
      "\n",
      "           0       1.00      1.00      1.00    978947\n",
      "           1       1.00      1.00      1.00     59642\n",
      "           2       1.00      1.00      1.00      8017\n",
      "           3       1.00      1.00      1.00     43998\n",
      "           4       1.00      1.00      1.00     19983\n",
      "           5       1.00      1.00      1.00     15988\n",
      "\n",
      "    accuracy                           1.00   1126575\n",
      "   macro avg       1.00      1.00      1.00   1126575\n",
      "weighted avg       1.00      1.00      1.00   1126575\n",
      "\n",
      "Classification Report (Test):\n",
      "              precision    recall  f1-score   support\n",
      "\n",
      "           0       1.00      1.00      1.00    244790\n",
      "           1       1.00      1.00      1.00     15021\n",
      "           2       1.00      1.00      1.00      1974\n",
      "           3       1.00      1.00      1.00     10902\n",
      "           4       1.00      1.00      1.00      4968\n",
      "           5       1.00      1.00      1.00      3989\n",
      "\n",
      "    accuracy                           1.00    281644\n",
      "   macro avg       1.00      1.00      1.00    281644\n",
      "weighted avg       1.00      1.00      1.00    281644\n",
      "\n"
     ]
    }
   ],
   "source": [
    "#Evaluate on training set\n",
    "y_train_pred = final_model.predict(X_train)\n",
    "train_accuracy = accuracy_score(y_train, y_train_pred)\n",
    "train_f1 = f1_score(y_train, y_train_pred, average=\"macro\")\n",
    "\n",
    "#Evaluate on test set\n",
    "y_test_pred = final_model.predict(X_test)\n",
    "test_accuracy = accuracy_score(y_test, y_test_pred)\n",
    "test_f1 = f1_score(y_test, y_test_pred, average=\"macro\")\n",
    "\n",
    "\n",
    "#Compare results\n",
    "print(f\"Training Accuracy: {train_accuracy:.2f}, Test Accuracy: {test_accuracy:.2f}\")\n",
    "print(f\"Training F1 Score: {train_f1:.2f}, Test F1 Score: {test_f1:.2f}\")\n",
    "\n",
    "if train_accuracy > test_accuracy:\n",
    "    print(\"The model might be overfitting.\")\n",
    "elif train_accuracy < test_accuracy:\n",
    "    print(\"Test set performs better than training.\")\n",
    "else:\n",
    "    print(\"Training and test performance are comparable.\")\n",
    "\n",
    "#Classification reports\n",
    "print(\"\\nClassification Report (Training):\")\n",
    "print(classification_report(y_train, y_train_pred))\n",
    "\n",
    "print(\"Classification Report (Test):\")\n",
    "print(classification_report(y_test, y_test_pred))"
   ]
  }
 ],
 "metadata": {
  "kernelspec": {
   "display_name": "Python 3 (ipykernel)",
   "language": "python",
   "name": "python3"
  },
  "language_info": {
   "codemirror_mode": {
    "name": "ipython",
    "version": 3
   },
   "file_extension": ".py",
   "mimetype": "text/x-python",
   "name": "python",
   "nbconvert_exporter": "python",
   "pygments_lexer": "ipython3",
   "version": "3.12.7"
  }
 },
 "nbformat": 4,
 "nbformat_minor": 5
}
