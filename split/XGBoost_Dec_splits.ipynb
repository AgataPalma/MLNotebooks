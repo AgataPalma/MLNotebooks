{
 "cells": [
  {
   "cell_type": "code",
   "execution_count": 1,
   "id": "fce399d6-d342-4cae-bfcd-f4f64f145580",
   "metadata": {
    "editable": true,
    "slideshow": {
     "slide_type": ""
    },
    "tags": []
   },
   "outputs": [],
   "source": [
    "import pandas as pd\n",
    "from sklearn.model_selection import StratifiedKFold, cross_val_score, cross_val_predict, train_test_split\n",
    "from sklearn.metrics import classification_report, make_scorer, f1_score\n",
    "from sklearn.preprocessing import LabelEncoder, StandardScaler\n",
    "import optuna\n",
    "from datetime import datetime\n",
    "import time\n",
    "from xgboost import XGBClassifier\n",
    "import xgboost as xgb"
   ]
  },
  {
   "cell_type": "code",
   "execution_count": 2,
   "id": "c3bbf6d5-862f-408b-92b4-0fa306dcfe04",
   "metadata": {},
   "outputs": [
    {
     "name": "stdout",
     "output_type": "stream",
     "text": [
      "Notebook started at: 2025-01-20 09:21:34.214107\n"
     ]
    }
   ],
   "source": [
    "notebook_start_time = datetime.now()\n",
    "print(f\"Notebook started at: {notebook_start_time}\")\n",
    "\n",
    "#Load the dataset\n",
    "df = pd.read_csv('complete_decimal_dataset.csv')\n",
    "\n",
    "#Encode target variable\n",
    "label_encoder = LabelEncoder()\n",
    "df['specific_class_encoded'] = label_encoder.fit_transform(df['specific_class'])\n",
    "\n",
    "#Prepare features and target\n",
    "X = df.drop(columns=['label', 'category', 'specific_class', 'specific_class_encoded'])\n",
    "y = df['specific_class_encoded']"
   ]
  },
  {
   "cell_type": "code",
   "execution_count": 3,
   "id": "16d8abbd-65bf-438f-9142-d6b98e9fdb5b",
   "metadata": {},
   "outputs": [],
   "source": [
    "#Apply scaling\n",
    "scaler = StandardScaler()\n",
    "X_scaled = scaler.fit_transform(X)\n"
   ]
  },
  {
   "cell_type": "code",
   "execution_count": 4,
   "id": "e2def48c-dfe5-4d78-9834-3c7cd7d03bf7",
   "metadata": {},
   "outputs": [],
   "source": [
    "#Training and testing sets Splits (80/20 split)\n",
    "X_train, X_test, y_train, y_test = train_test_split(X_scaled, y, test_size=0.2, random_state=42)\n",
    "\n",
    "def optimize_xgboost(trial):\n",
    "    #hyperparameters\n",
    "    n_estimators = trial.suggest_int('n_estimators', 100, 500)\n",
    "    max_depth = trial.suggest_int('max_depth', 3, 10)\n",
    "    learning_rate = trial.suggest_float('learning_rate', 0.01, 0.3)\n",
    "    subsample = trial.suggest_float('subsample', 0.6, 1.0)\n",
    "    colsample_bytree = trial.suggest_float('colsample_bytree', 0.6, 1.0)\n",
    "    \n",
    "    #XGBoost model with trial parameters\n",
    "    model = XGBClassifier(\n",
    "        n_estimators=n_estimators,\n",
    "        max_depth=max_depth,\n",
    "        learning_rate=learning_rate,\n",
    "        subsample=subsample,\n",
    "        colsample_bytree=colsample_bytree,\n",
    "        use_label_encoder=False,\n",
    "        eval_metric='mlogloss',\n",
    "        random_state=42\n",
    "    )\n",
    "    \n",
    "    #5-fold stratified cross-validation\n",
    "    kfold = StratifiedKFold(n_splits=5, shuffle=True, random_state=42)\n",
    "    scorer = make_scorer(f1_score, average='macro')\n",
    "    scores = cross_val_score(model,X_train, y_train, cv=kfold, scoring=scorer, n_jobs=-1)\n",
    "    \n",
    "    return scores.mean()"
   ]
  },
  {
   "cell_type": "code",
   "execution_count": 5,
   "id": "eb09134f-d7f0-4743-a62d-c26e3cec6884",
   "metadata": {},
   "outputs": [
    {
     "name": "stderr",
     "output_type": "stream",
     "text": [
      "[I 2025-01-20 09:21:36,220] A new study created in memory with name: no-name-533439d9-9d4c-44b2-9ce9-d8bf367fd0e8\n",
      "[I 2025-01-20 09:31:42,291] Trial 5 finished with value: 1.0 and parameters: {'n_estimators': 346, 'max_depth': 4, 'learning_rate': 0.08257351184613305, 'subsample': 0.820421224719867, 'colsample_bytree': 0.6442582375605579}. Best is trial 5 with value: 1.0.\n",
      "[I 2025-01-20 09:42:58,601] Trial 4 finished with value: 1.0 and parameters: {'n_estimators': 158, 'max_depth': 3, 'learning_rate': 0.12508639816210868, 'subsample': 0.7527043695523635, 'colsample_bytree': 0.7081917037834583}. Best is trial 5 with value: 1.0.\n",
      "[I 2025-01-20 09:43:08,817] Trial 7 finished with value: 1.0 and parameters: {'n_estimators': 444, 'max_depth': 9, 'learning_rate': 0.15145476659553136, 'subsample': 0.6099935488933788, 'colsample_bytree': 0.761153229242018}. Best is trial 5 with value: 1.0.\n",
      "[I 2025-01-20 09:46:34,436] Trial 0 finished with value: 1.0 and parameters: {'n_estimators': 170, 'max_depth': 10, 'learning_rate': 0.26084816346056666, 'subsample': 0.8396623595432374, 'colsample_bytree': 0.836750703197698}. Best is trial 5 with value: 1.0.\n",
      "[I 2025-01-20 09:48:49,868] Trial 9 finished with value: 1.0 and parameters: {'n_estimators': 310, 'max_depth': 9, 'learning_rate': 0.2637347472245295, 'subsample': 0.7355870230645138, 'colsample_bytree': 0.7867506078790093}. Best is trial 5 with value: 1.0.\n",
      "[I 2025-01-20 09:48:56,717] Trial 6 finished with value: 1.0 and parameters: {'n_estimators': 205, 'max_depth': 4, 'learning_rate': 0.06543226333845104, 'subsample': 0.717930197029508, 'colsample_bytree': 0.9424518787642688}. Best is trial 5 with value: 1.0.\n",
      "[I 2025-01-20 09:49:12,031] Trial 3 finished with value: 1.0 and parameters: {'n_estimators': 235, 'max_depth': 9, 'learning_rate': 0.21948141808574298, 'subsample': 0.8124818974818546, 'colsample_bytree': 0.7527341113172255}. Best is trial 5 with value: 1.0.\n",
      "[I 2025-01-20 09:49:33,844] Trial 1 finished with value: 0.9999363102084832 and parameters: {'n_estimators': 127, 'max_depth': 8, 'learning_rate': 0.026001548206333908, 'subsample': 0.8782218690656063, 'colsample_bytree': 0.8825848455138359}. Best is trial 5 with value: 1.0.\n",
      "[I 2025-01-20 09:49:37,127] Trial 2 finished with value: 1.0 and parameters: {'n_estimators': 187, 'max_depth': 4, 'learning_rate': 0.2705351885728116, 'subsample': 0.9095348634201571, 'colsample_bytree': 0.8336498013475215}. Best is trial 5 with value: 1.0.\n",
      "[I 2025-01-20 09:51:56,222] Trial 8 finished with value: 0.9999940611935056 and parameters: {'n_estimators': 313, 'max_depth': 9, 'learning_rate': 0.03538083125209919, 'subsample': 0.8081014280457197, 'colsample_bytree': 0.7644002710473473}. Best is trial 5 with value: 1.0.\n"
     ]
    },
    {
     "name": "stdout",
     "output_type": "stream",
     "text": [
      "Best parameters for XGBoost: {'n_estimators': 346, 'max_depth': 4, 'learning_rate': 0.08257351184613305, 'subsample': 0.820421224719867, 'colsample_bytree': 0.6442582375605579}\n"
     ]
    }
   ],
   "source": [
    "#study for XGBoost\n",
    "study_xgb = optuna.create_study(direction=\"maximize\")\n",
    "study_xgb.optimize(optimize_xgboost, n_trials=10, n_jobs=-1)\n",
    "\n",
    "#best parameters\n",
    "print(f\"Best parameters for XGBoost: {study_xgb.best_params}\")\n"
   ]
  },
  {
   "cell_type": "code",
   "execution_count": 6,
   "id": "d2dbfadc-6e0c-447f-8866-0f14ec35ea6a",
   "metadata": {},
   "outputs": [],
   "source": [
    "#Prepare parameters from Optuna\n",
    "best_params = study_xgb.best_params\n",
    "best_params.update({\n",
    "    'objective': 'multi:softmax',\n",
    "    'num_class': len(y.unique()),\n",
    "    'eval_metric': 'mlogloss',\n",
    "    'random_state': 42\n",
    "})"
   ]
  },
  {
   "cell_type": "code",
   "execution_count": 7,
   "id": "3ded8e8e-fbfa-42c0-a800-564e7e4bd491",
   "metadata": {
    "editable": true,
    "slideshow": {
     "slide_type": ""
    },
    "tags": []
   },
   "outputs": [
    {
     "name": "stderr",
     "output_type": "stream",
     "text": [
      "C:\\Users\\FX505\\Documents\\tese_env\\Lib\\site-packages\\xgboost\\core.py:158: UserWarning: [09:51:56] WARNING: C:\\buildkite-agent\\builds\\buildkite-windows-cpu-autoscaling-group-i-0ed59c031377d09b8-1\\xgboost\\xgboost-ci-windows\\src\\learner.cc:740: \n",
      "Parameters: { \"n_estimators\" } are not used.\n",
      "\n",
      "  warnings.warn(smsg, UserWarning)\n"
     ]
    },
    {
     "name": "stdout",
     "output_type": "stream",
     "text": [
      "Model training time: 105.84 seconds\n",
      "Classification Report:\n",
      "               precision    recall  f1-score   support\n",
      "\n",
      "           0       1.00      1.00      1.00    244790\n",
      "           1       1.00      1.00      1.00     15021\n",
      "           2       1.00      1.00      1.00      1974\n",
      "           3       1.00      1.00      1.00     10902\n",
      "           4       1.00      1.00      1.00      4968\n",
      "           5       1.00      1.00      1.00      3989\n",
      "\n",
      "    accuracy                           1.00    281644\n",
      "   macro avg       1.00      1.00      1.00    281644\n",
      "weighted avg       1.00      1.00      1.00    281644\n",
      "\n",
      "F1 Score: 1.0\n"
     ]
    }
   ],
   "source": [
    "#Convert train and test sets to DMatrix\n",
    "dtrain = xgb.DMatrix(X_train, label=y_train)\n",
    "dtest = xgb.DMatrix(X_test, label=y_test)\n",
    "\n",
    "start_time = time.time()\n",
    "#Train the model with early stopping\n",
    "model = xgb.train(\n",
    "    best_params,\n",
    "    dtrain,\n",
    "    num_boost_round=best_params.get(\"n_estimators\"),\n",
    "    evals=[(dtest, 'eval')],\n",
    "    early_stopping_rounds=10,\n",
    "    verbose_eval=False\n",
    ")\n",
    "end_time = time.time()\n",
    "\n",
    "training_duration = end_time - start_time\n",
    "print(f\"Model training time: {training_duration:.2f} seconds\")\n",
    "\n",
    "y_pred = model.predict(dtest).astype(int)\n",
    "\n",
    "#Classification Report\n",
    "print(\"Classification Report:\\n\", classification_report(y_test, y_pred))\n",
    "f1 = f1_score(y_test, y_pred, average='macro')\n",
    "print(\"F1 Score:\", f1)\n"
   ]
  },
  {
   "cell_type": "code",
   "execution_count": 8,
   "id": "8ebfdd51-6e1e-4ded-bd56-806e0b536379",
   "metadata": {
    "editable": true,
    "slideshow": {
     "slide_type": ""
    },
    "tags": []
   },
   "outputs": [
    {
     "name": "stdout",
     "output_type": "stream",
     "text": [
      "Notebook ended at: 2025-01-20 09:53:43.644423\n",
      "Total notebook runtime: 0:32:09.430316\n"
     ]
    }
   ],
   "source": [
    "# Log the end time\n",
    "notebook_end_time = datetime.now()\n",
    "print(f\"Notebook ended at: {notebook_end_time}\")\n",
    "\n",
    "# Calculate the total duration\n",
    "notebook_duration = notebook_end_time - notebook_start_time\n",
    "print(f\"Total notebook runtime: {notebook_duration}\")"
   ]
  },
  {
   "cell_type": "code",
   "execution_count": null,
   "id": "9e1a2ae4-14c5-4720-b498-f5587e6a512a",
   "metadata": {},
   "outputs": [],
   "source": []
  }
 ],
 "metadata": {
  "kernelspec": {
   "display_name": "Python 3 (ipykernel)",
   "language": "python",
   "name": "python3"
  },
  "language_info": {
   "codemirror_mode": {
    "name": "ipython",
    "version": 3
   },
   "file_extension": ".py",
   "mimetype": "text/x-python",
   "name": "python",
   "nbconvert_exporter": "python",
   "pygments_lexer": "ipython3",
   "version": "3.12.7"
  }
 },
 "nbformat": 4,
 "nbformat_minor": 5
}
