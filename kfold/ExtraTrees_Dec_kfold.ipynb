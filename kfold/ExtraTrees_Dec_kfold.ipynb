{
 "cells": [
  {
   "cell_type": "code",
   "execution_count": 1,
   "id": "74a2e03f-7f53-45d3-9945-3d9065f53457",
   "metadata": {
    "editable": true,
    "slideshow": {
     "slide_type": ""
    },
    "tags": []
   },
   "outputs": [],
   "source": [
    "#Imports\n",
    "import pandas as pd\n",
    "from sklearn.model_selection import StratifiedKFold, cross_val_score, cross_val_predict\n",
    "from sklearn.ensemble import ExtraTreesClassifier\n",
    "from sklearn.metrics import classification_report, make_scorer, f1_score\n",
    "from sklearn.preprocessing import LabelEncoder, StandardScaler\n",
    "import optuna\n",
    "from datetime import datetime\n",
    "import time"
   ]
  },
  {
   "cell_type": "code",
   "execution_count": 2,
   "id": "b007c3d0-065a-42ea-b03d-35774aac386d",
   "metadata": {
    "editable": true,
    "slideshow": {
     "slide_type": ""
    },
    "tags": []
   },
   "outputs": [],
   "source": [
    "#Load the dataset\n",
    "df = pd.read_csv('complete_decimal_dataset.csv')"
   ]
  },
  {
   "cell_type": "code",
   "execution_count": 3,
   "id": "c64901d7-c60e-4f16-b4d8-815a4f9c1260",
   "metadata": {
    "editable": true,
    "slideshow": {
     "slide_type": ""
    },
    "tags": []
   },
   "outputs": [],
   "source": [
    "#Data Preprocessing\n",
    "label_encoder = LabelEncoder()\n",
    "df['specific_class_encoded'] = label_encoder.fit_transform(df['specific_class'])\n",
    "\n",
    "X_full = df.drop(columns=['label', 'category', 'specific_class', 'specific_class_encoded'])\n",
    "y_full = df['specific_class_encoded']\n",
    "\n",
    "scaler = StandardScaler()\n",
    "X_full_scaled = scaler.fit_transform(X_full)"
   ]
  },
  {
   "cell_type": "code",
   "execution_count": 4,
   "id": "b2094fdd-95e4-47fa-a117-e22f1496a37b",
   "metadata": {
    "editable": true,
    "slideshow": {
     "slide_type": ""
    },
    "tags": []
   },
   "outputs": [],
   "source": [
    "#Optimization function\n",
    "def optimize_extra_trees(trial):\n",
    "    n_estimators = trial.suggest_int('n_estimators', 50, 300)\n",
    "    max_depth = trial.suggest_int('max_depth', 10, 50, log=True)\n",
    "    \n",
    "    et_model = ExtraTreesClassifier(n_estimators=n_estimators, max_depth=max_depth, random_state=42)\n",
    "    \n",
    "    kfold = StratifiedKFold(n_splits=5, shuffle=True, random_state=42)\n",
    "    scorer = make_scorer(f1_score, average='macro')\n",
    "    scores = cross_val_score(et_model, X_full_scaled, y_full, cv=kfold, scoring=scorer, n_jobs=-1).mean()\n",
    "    \n",
    "    return scores"
   ]
  },
  {
   "cell_type": "code",
   "execution_count": 5,
   "id": "932b79af-9cab-4b1e-b1b1-6df10ede6630",
   "metadata": {
    "editable": true,
    "slideshow": {
     "slide_type": ""
    },
    "tags": []
   },
   "outputs": [
    {
     "name": "stderr",
     "output_type": "stream",
     "text": [
      "[I 2025-01-27 22:31:07,374] A new study created in memory with name: no-name-1cc32f8e-dc2a-4795-9f9f-5ca50d506902\n",
      "[I 2025-01-27 22:52:37,572] Trial 0 finished with value: 1.0 and parameters: {'n_estimators': 50, 'max_depth': 34}. Best is trial 0 with value: 1.0.\n",
      "[I 2025-01-27 23:07:23,821] Trial 1 finished with value: 0.9999904829813717 and parameters: {'n_estimators': 239, 'max_depth': 14}. Best is trial 0 with value: 1.0.\n",
      "[I 2025-01-27 23:10:51,272] Trial 3 finished with value: 1.0 and parameters: {'n_estimators': 55, 'max_depth': 36}. Best is trial 0 with value: 1.0.\n",
      "[I 2025-01-27 23:12:54,916] Trial 2 finished with value: 1.0 and parameters: {'n_estimators': 71, 'max_depth': 32}. Best is trial 0 with value: 1.0.\n",
      "[I 2025-01-27 23:17:30,994] Trial 6 finished with value: 0.9999518198164484 and parameters: {'n_estimators': 136, 'max_depth': 11}. Best is trial 0 with value: 1.0.\n",
      "[I 2025-01-27 23:18:25,393] Trial 7 finished with value: 1.0 and parameters: {'n_estimators': 167, 'max_depth': 31}. Best is trial 0 with value: 1.0.\n",
      "[I 2025-01-27 23:21:06,493] Trial 8 finished with value: 0.9999904829813717 and parameters: {'n_estimators': 234, 'max_depth': 13}. Best is trial 0 with value: 1.0.\n",
      "[I 2025-01-27 23:21:24,752] Trial 5 finished with value: 1.0 and parameters: {'n_estimators': 128, 'max_depth': 19}. Best is trial 0 with value: 1.0.\n",
      "[I 2025-01-27 23:23:59,906] Trial 9 finished with value: 1.0 and parameters: {'n_estimators': 294, 'max_depth': 26}. Best is trial 0 with value: 1.0.\n",
      "[I 2025-01-27 23:24:57,559] Trial 4 finished with value: 1.0 and parameters: {'n_estimators': 298, 'max_depth': 25}. Best is trial 0 with value: 1.0.\n"
     ]
    }
   ],
   "source": [
    "#Optuna study with stratified cross-validation\n",
    "study_et = optuna.create_study(direction=\"maximize\")\n",
    "study_et.optimize(optimize_extra_trees, n_trials=10, n_jobs=-1)"
   ]
  },
  {
   "cell_type": "code",
   "execution_count": 6,
   "id": "e5d99fff-1a90-4772-93ce-343860b50340",
   "metadata": {
    "editable": true,
    "slideshow": {
     "slide_type": ""
    },
    "tags": []
   },
   "outputs": [
    {
     "name": "stdout",
     "output_type": "stream",
     "text": [
      "Best parameters for ExtraTrees: {'n_estimators': 50, 'max_depth': 34}\n"
     ]
    }
   ],
   "source": [
    "#Best parameters\n",
    "print(f\"Best parameters for ExtraTrees: {study_et.best_params}\")"
   ]
  },
  {
   "cell_type": "code",
   "execution_count": 7,
   "id": "a48ac027-00e2-49bf-934f-e2eaa2e5bcf8",
   "metadata": {
    "editable": true,
    "slideshow": {
     "slide_type": ""
    },
    "tags": []
   },
   "outputs": [
    {
     "name": "stdout",
     "output_type": "stream",
     "text": [
      "Model training time: 220.58 seconds\n"
     ]
    }
   ],
   "source": [
    "#Final model training with optimized hyperparameters\n",
    "best_et = ExtraTreesClassifier(**study_et.best_params, random_state=42)\n",
    "\n",
    "#10-fold cross-validation with predictions\n",
    "kfold = StratifiedKFold(n_splits=10, shuffle=True, random_state=42)\n",
    "start_time = time.time()\n",
    "y_pred = cross_val_predict(best_et, X_full_scaled, y_full, cv=kfold, n_jobs=-1)\n",
    "end_time = time.time()\n",
    "\n",
    "training_duration = end_time - start_time\n",
    "print(f\"Model training time: {training_duration:.2f} seconds\")"
   ]
  },
  {
   "cell_type": "code",
   "execution_count": 8,
   "id": "968d94c2-5a39-488a-92a3-d1a815cc38e7",
   "metadata": {},
   "outputs": [
    {
     "name": "stdout",
     "output_type": "stream",
     "text": [
      "ExtraTrees Classification Report (Full Training):\n",
      "              precision    recall  f1-score   support\n",
      "\n",
      "           0       1.00      1.00      1.00   1223737\n",
      "           1       1.00      1.00      1.00     74663\n",
      "           2       1.00      1.00      1.00      9991\n",
      "           3       1.00      1.00      1.00     54900\n",
      "           4       1.00      1.00      1.00     24951\n",
      "           5       1.00      1.00      1.00     19977\n",
      "\n",
      "    accuracy                           1.00   1408219\n",
      "   macro avg       1.00      1.00      1.00   1408219\n",
      "weighted avg       1.00      1.00      1.00   1408219\n",
      "\n"
     ]
    }
   ],
   "source": [
    "#Classification report\n",
    "report = classification_report(y_full, y_pred)\n",
    "print(f\"ExtraTrees Classification Report (Full Training):\\n{report}\")"
   ]
  }
 ],
 "metadata": {
  "kernelspec": {
   "display_name": "Python 3 (ipykernel)",
   "language": "python",
   "name": "python3"
  },
  "language_info": {
   "codemirror_mode": {
    "name": "ipython",
    "version": 3
   },
   "file_extension": ".py",
   "mimetype": "text/x-python",
   "name": "python",
   "nbconvert_exporter": "python",
   "pygments_lexer": "ipython3",
   "version": "3.12.7"
  }
 },
 "nbformat": 4,
 "nbformat_minor": 5
}
