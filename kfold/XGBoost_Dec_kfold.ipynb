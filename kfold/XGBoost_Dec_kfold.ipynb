{
 "cells": [
  {
   "cell_type": "code",
   "execution_count": 13,
   "id": "fce399d6-d342-4cae-bfcd-f4f64f145580",
   "metadata": {
    "editable": true,
    "slideshow": {
     "slide_type": ""
    },
    "tags": []
   },
   "outputs": [],
   "source": [
    "#Imports\n",
    "import pandas as pd\n",
    "from sklearn.model_selection import StratifiedKFold, cross_val_score, cross_val_predict\n",
    "from sklearn.metrics import classification_report, make_scorer, f1_score\n",
    "from sklearn.preprocessing import LabelEncoder, StandardScaler\n",
    "import optuna\n",
    "from datetime import datetime\n",
    "import time\n",
    "from xgboost import XGBClassifier\n",
    "import xgboost as xgb\n",
    "import numpy as np\n",
    "from xgboost.callback import EarlyStopping"
   ]
  },
  {
   "cell_type": "code",
   "execution_count": 2,
   "id": "e4ee142d-b3d8-4531-b87a-15e4e15dfa88",
   "metadata": {
    "editable": true,
    "slideshow": {
     "slide_type": ""
    },
    "tags": []
   },
   "outputs": [],
   "source": [
    "#Load the dataset\n",
    "df = pd.read_csv('complete_decimal_dataset.csv')"
   ]
  },
  {
   "cell_type": "code",
   "execution_count": 3,
   "id": "c3bbf6d5-862f-408b-92b4-0fa306dcfe04",
   "metadata": {
    "editable": true,
    "slideshow": {
     "slide_type": ""
    },
    "tags": []
   },
   "outputs": [],
   "source": [
    "#Data Preprocessing\n",
    "label_encoder = LabelEncoder()\n",
    "df['specific_class_encoded'] = label_encoder.fit_transform(df['specific_class'])\n",
    "\n",
    "X = df.drop(columns=['label', 'category', 'specific_class', 'specific_class_encoded'])\n",
    "y = df['specific_class_encoded']\n",
    "\n",
    "scaler = StandardScaler()\n",
    "X_scaled = scaler.fit_transform(X)"
   ]
  },
  {
   "cell_type": "code",
   "execution_count": 4,
   "id": "e2def48c-dfe5-4d78-9834-3c7cd7d03bf7",
   "metadata": {
    "editable": true,
    "slideshow": {
     "slide_type": ""
    },
    "tags": []
   },
   "outputs": [],
   "source": [
    "#Optimization Function\n",
    "def optimize_xgboost(trial):\n",
    "    n_estimators = trial.suggest_int('n_estimators', 100, 500)\n",
    "    max_depth = trial.suggest_int('max_depth', 3, 10)\n",
    "    learning_rate = trial.suggest_float('learning_rate', 0.01, 0.3)\n",
    "    subsample = trial.suggest_float('subsample', 0.6, 1.0)\n",
    "    colsample_bytree = trial.suggest_float('colsample_bytree', 0.6, 1.0)\n",
    "    \n",
    "    #XGBoost model with trial parameters\n",
    "    xgboost = XGBClassifier(\n",
    "        n_estimators=n_estimators,\n",
    "        max_depth=max_depth,\n",
    "        learning_rate=learning_rate,\n",
    "        subsample=subsample,\n",
    "        colsample_bytree=colsample_bytree,\n",
    "        use_label_encoder=False,\n",
    "        eval_metric='mlogloss',\n",
    "        random_state=42,\n",
    "        n_jobs=-1\n",
    "    )\n",
    "    \n",
    "    #5-fold CV\n",
    "    kfold = StratifiedKFold(n_splits=5, shuffle=True, random_state=42)\n",
    "    scorer = make_scorer(f1_score, average='macro')\n",
    "    scores = cross_val_score(xgboost, X_scaled, y, cv=kfold, scoring=scorer, n_jobs=-1).mean()\n",
    "    \n",
    "    return scores"
   ]
  },
  {
   "cell_type": "code",
   "execution_count": 5,
   "id": "eb09134f-d7f0-4743-a62d-c26e3cec6884",
   "metadata": {
    "editable": true,
    "slideshow": {
     "slide_type": ""
    },
    "tags": []
   },
   "outputs": [
    {
     "name": "stderr",
     "output_type": "stream",
     "text": [
      "[I 2025-01-27 17:49:06,644] A new study created in memory with name: no-name-6f539236-546e-4a7e-b4b2-1bcd87a9eb47\n",
      "[I 2025-01-27 18:05:40,989] Trial 6 finished with value: 1.0 and parameters: {'n_estimators': 338, 'max_depth': 6, 'learning_rate': 0.12486607179583395, 'subsample': 0.8398820455022838, 'colsample_bytree': 0.8885000829639664}. Best is trial 6 with value: 1.0.\n",
      "[I 2025-01-27 18:11:11,636] Trial 2 finished with value: 1.0 and parameters: {'n_estimators': 232, 'max_depth': 6, 'learning_rate': 0.05109384543150596, 'subsample': 0.7451503942767111, 'colsample_bytree': 0.6688872459787522}. Best is trial 6 with value: 1.0.\n",
      "[I 2025-01-27 18:19:24,364] Trial 0 finished with value: 0.9999518198164484 and parameters: {'n_estimators': 160, 'max_depth': 10, 'learning_rate': 0.017788940342930517, 'subsample': 0.6819764651416846, 'colsample_bytree': 0.7241590597216233}. Best is trial 6 with value: 1.0.\n",
      "[I 2025-01-27 18:25:50,664] Trial 7 finished with value: 1.0 and parameters: {'n_estimators': 186, 'max_depth': 6, 'learning_rate': 0.198206688928389, 'subsample': 0.6736579749799895, 'colsample_bytree': 0.7104846678953811}. Best is trial 6 with value: 1.0.\n",
      "[I 2025-01-27 18:26:50,749] Trial 4 finished with value: 1.0 and parameters: {'n_estimators': 140, 'max_depth': 8, 'learning_rate': 0.237896844946291, 'subsample': 0.7623647844878023, 'colsample_bytree': 0.9153342905369051}. Best is trial 6 with value: 1.0.\n",
      "[I 2025-01-27 18:35:57,363] Trial 9 finished with value: 1.0 and parameters: {'n_estimators': 225, 'max_depth': 9, 'learning_rate': 0.12215634395167377, 'subsample': 0.7720241220134555, 'colsample_bytree': 0.9151819935672211}. Best is trial 6 with value: 1.0.\n",
      "[I 2025-01-27 18:43:03,484] Trial 1 finished with value: 1.0 and parameters: {'n_estimators': 452, 'max_depth': 10, 'learning_rate': 0.2267599935144613, 'subsample': 0.8828439017002135, 'colsample_bytree': 0.6138951416641285}. Best is trial 6 with value: 1.0.\n",
      "[I 2025-01-27 18:43:23,534] Trial 3 finished with value: 1.0 and parameters: {'n_estimators': 272, 'max_depth': 7, 'learning_rate': 0.1981040873033414, 'subsample': 0.6174100477700154, 'colsample_bytree': 0.8047662218195366}. Best is trial 6 with value: 1.0.\n",
      "[I 2025-01-27 18:44:02,417] Trial 8 finished with value: 1.0 and parameters: {'n_estimators': 290, 'max_depth': 5, 'learning_rate': 0.16689771689431052, 'subsample': 0.7778223755225944, 'colsample_bytree': 0.9728571361558265}. Best is trial 6 with value: 1.0.\n",
      "[I 2025-01-27 18:47:39,076] Trial 5 finished with value: 1.0 and parameters: {'n_estimators': 489, 'max_depth': 3, 'learning_rate': 0.16960708819816062, 'subsample': 0.9836041931454143, 'colsample_bytree': 0.9037817854088025}. Best is trial 6 with value: 1.0.\n"
     ]
    },
    {
     "name": "stdout",
     "output_type": "stream",
     "text": [
      "Best parameters for XGBoost: {'n_estimators': 338, 'max_depth': 6, 'learning_rate': 0.12486607179583395, 'subsample': 0.8398820455022838, 'colsample_bytree': 0.8885000829639664}\n"
     ]
    }
   ],
   "source": [
    "#Optuna study with stratified cross-validation\n",
    "study_xgb = optuna.create_study(direction=\"maximize\")\n",
    "study_xgb.optimize(optimize_xgboost, n_trials=10, n_jobs=-1)\n",
    "\n",
    "#Best parameters\n",
    "print(f\"Best parameters for XGBoost: {study_xgb.best_params}\")\n"
   ]
  },
  {
   "cell_type": "code",
   "execution_count": 6,
   "id": "d2dbfadc-6e0c-447f-8866-0f14ec35ea6a",
   "metadata": {},
   "outputs": [],
   "source": [
    "#Prepare parameters from Optuna\n",
    "best_params = study_xgb.best_params\n",
    "best_params.update({\n",
    "    'objective': 'multi:softmax',\n",
    "    'num_class': len(y.unique()),\n",
    "    'eval_metric': 'mlogloss',\n",
    "    'random_state': 42\n",
    "})"
   ]
  },
  {
   "cell_type": "code",
   "execution_count": 18,
   "id": "3ded8e8e-fbfa-42c0-a800-564e7e4bd491",
   "metadata": {
    "editable": true,
    "slideshow": {
     "slide_type": ""
    },
    "tags": []
   },
   "outputs": [
    {
     "name": "stderr",
     "output_type": "stream",
     "text": [
      "C:\\Users\\FX505\\Documents\\tese_env\\Lib\\site-packages\\xgboost\\core.py:158: UserWarning: [19:11:30] WARNING: C:\\buildkite-agent\\builds\\buildkite-windows-cpu-autoscaling-group-i-0c55ff5f71b100e98-1\\xgboost\\xgboost-ci-windows\\src\\learner.cc:740: \n",
      "Parameters: { \"n_estimators\" } are not used.\n",
      "\n",
      "  warnings.warn(smsg, UserWarning)\n",
      "C:\\Users\\FX505\\Documents\\tese_env\\Lib\\site-packages\\xgboost\\core.py:158: UserWarning: [19:14:02] WARNING: C:\\buildkite-agent\\builds\\buildkite-windows-cpu-autoscaling-group-i-0c55ff5f71b100e98-1\\xgboost\\xgboost-ci-windows\\src\\learner.cc:740: \n",
      "Parameters: { \"n_estimators\" } are not used.\n",
      "\n",
      "  warnings.warn(smsg, UserWarning)\n",
      "C:\\Users\\FX505\\Documents\\tese_env\\Lib\\site-packages\\xgboost\\core.py:158: UserWarning: [19:16:27] WARNING: C:\\buildkite-agent\\builds\\buildkite-windows-cpu-autoscaling-group-i-0c55ff5f71b100e98-1\\xgboost\\xgboost-ci-windows\\src\\learner.cc:740: \n",
      "Parameters: { \"n_estimators\" } are not used.\n",
      "\n",
      "  warnings.warn(smsg, UserWarning)\n",
      "C:\\Users\\FX505\\Documents\\tese_env\\Lib\\site-packages\\xgboost\\core.py:158: UserWarning: [19:18:56] WARNING: C:\\buildkite-agent\\builds\\buildkite-windows-cpu-autoscaling-group-i-0c55ff5f71b100e98-1\\xgboost\\xgboost-ci-windows\\src\\learner.cc:740: \n",
      "Parameters: { \"n_estimators\" } are not used.\n",
      "\n",
      "  warnings.warn(smsg, UserWarning)\n",
      "C:\\Users\\FX505\\Documents\\tese_env\\Lib\\site-packages\\xgboost\\core.py:158: UserWarning: [19:21:43] WARNING: C:\\buildkite-agent\\builds\\buildkite-windows-cpu-autoscaling-group-i-0c55ff5f71b100e98-1\\xgboost\\xgboost-ci-windows\\src\\learner.cc:740: \n",
      "Parameters: { \"n_estimators\" } are not used.\n",
      "\n",
      "  warnings.warn(smsg, UserWarning)\n",
      "C:\\Users\\FX505\\Documents\\tese_env\\Lib\\site-packages\\xgboost\\core.py:158: UserWarning: [19:24:43] WARNING: C:\\buildkite-agent\\builds\\buildkite-windows-cpu-autoscaling-group-i-0c55ff5f71b100e98-1\\xgboost\\xgboost-ci-windows\\src\\learner.cc:740: \n",
      "Parameters: { \"n_estimators\" } are not used.\n",
      "\n",
      "  warnings.warn(smsg, UserWarning)\n",
      "C:\\Users\\FX505\\Documents\\tese_env\\Lib\\site-packages\\xgboost\\core.py:158: UserWarning: [19:27:15] WARNING: C:\\buildkite-agent\\builds\\buildkite-windows-cpu-autoscaling-group-i-0c55ff5f71b100e98-1\\xgboost\\xgboost-ci-windows\\src\\learner.cc:740: \n",
      "Parameters: { \"n_estimators\" } are not used.\n",
      "\n",
      "  warnings.warn(smsg, UserWarning)\n",
      "C:\\Users\\FX505\\Documents\\tese_env\\Lib\\site-packages\\xgboost\\core.py:158: UserWarning: [19:29:53] WARNING: C:\\buildkite-agent\\builds\\buildkite-windows-cpu-autoscaling-group-i-0c55ff5f71b100e98-1\\xgboost\\xgboost-ci-windows\\src\\learner.cc:740: \n",
      "Parameters: { \"n_estimators\" } are not used.\n",
      "\n",
      "  warnings.warn(smsg, UserWarning)\n",
      "C:\\Users\\FX505\\Documents\\tese_env\\Lib\\site-packages\\xgboost\\core.py:158: UserWarning: [19:32:15] WARNING: C:\\buildkite-agent\\builds\\buildkite-windows-cpu-autoscaling-group-i-0c55ff5f71b100e98-1\\xgboost\\xgboost-ci-windows\\src\\learner.cc:740: \n",
      "Parameters: { \"n_estimators\" } are not used.\n",
      "\n",
      "  warnings.warn(smsg, UserWarning)\n",
      "C:\\Users\\FX505\\Documents\\tese_env\\Lib\\site-packages\\xgboost\\core.py:158: UserWarning: [19:34:35] WARNING: C:\\buildkite-agent\\builds\\buildkite-windows-cpu-autoscaling-group-i-0c55ff5f71b100e98-1\\xgboost\\xgboost-ci-windows\\src\\learner.cc:740: \n",
      "Parameters: { \"n_estimators\" } are not used.\n",
      "\n",
      "  warnings.warn(smsg, UserWarning)\n"
     ]
    }
   ],
   "source": [
    "#Final model training with optimized hyperparameters\n",
    "\n",
    "stratified_kfold = StratifiedKFold(n_splits=10, shuffle=True, random_state=42)\n",
    "\n",
    "#Initialize predictions\n",
    "y_pred = np.zeros(len(y))\n",
    "start_time = time.time()\n",
    "\n",
    "#Manual cross-validation\n",
    "for train_idx, val_idx in stratified_kfold.split(X_scaled, y):\n",
    "    X_train, X_val = X_scaled[train_idx], X_scaled[val_idx]\n",
    "    y_train, y_val = y[train_idx], y[val_idx]\n",
    "    \n",
    "    # Convert data to DMatrix format\n",
    "    dtrain = xgb.DMatrix(X_train, label=y_train)\n",
    "    dval = xgb.DMatrix(X_val, label=y_val)\n",
    "    \n",
    "    # Train model with early stopping\n",
    "    xgboost = xgb.train(\n",
    "        best_params,\n",
    "        dtrain,\n",
    "        num_boost_round=best_params.get(\"n_estimators\"),\n",
    "        evals=[(dval, 'eval')],\n",
    "        early_stopping_rounds=10,\n",
    "        verbose_eval=False\n",
    ")\n",
    "       \n",
    "    #Predictions for the validation set\n",
    "    y_pred[val_idx] = xgboost.predict(dval)\n",
    "\n",
    "\n",
    "end_time = time.time()\n"
   ]
  },
  {
   "cell_type": "code",
   "execution_count": 19,
   "id": "83d788f7-e79c-4bc9-bda4-4632fa62474e",
   "metadata": {
    "editable": true,
    "slideshow": {
     "slide_type": ""
    },
    "tags": []
   },
   "outputs": [
    {
     "name": "stdout",
     "output_type": "stream",
     "text": [
      "Model training time: 1532.28 seconds\n"
     ]
    }
   ],
   "source": [
    "#Evaluate the time it takes to train the model\n",
    "training_duration = end_time - start_time\n",
    "print(f\"Model training time: {training_duration:.2f} seconds\")"
   ]
  },
  {
   "cell_type": "code",
   "execution_count": 20,
   "id": "58f74d97-d10d-4c08-88b2-83c703822846",
   "metadata": {
    "editable": true,
    "slideshow": {
     "slide_type": ""
    },
    "tags": []
   },
   "outputs": [
    {
     "name": "stdout",
     "output_type": "stream",
     "text": [
      "Classification Report:\n",
      "               precision    recall  f1-score   support\n",
      "\n",
      "           0       1.00      1.00      1.00   1223737\n",
      "           1       1.00      1.00      1.00     74663\n",
      "           2       1.00      1.00      1.00      9991\n",
      "           3       1.00      1.00      1.00     54900\n",
      "           4       1.00      1.00      1.00     24951\n",
      "           5       1.00      1.00      1.00     19977\n",
      "\n",
      "    accuracy                           1.00   1408219\n",
      "   macro avg       1.00      1.00      1.00   1408219\n",
      "weighted avg       1.00      1.00      1.00   1408219\n",
      "\n",
      "F1 Score: 1.0\n"
     ]
    }
   ],
   "source": [
    "#Evaluate the model\n",
    "print(\"Classification Report:\\n\", classification_report(y, y_pred))\n",
    "f1 = f1_score(y, y_pred, average='macro')\n",
    "print(\"F1 Score:\", f1)"
   ]
  },
  {
   "cell_type": "code",
   "execution_count": null,
   "id": "f1951aba-281b-452c-b60c-87d8375bae57",
   "metadata": {},
   "outputs": [],
   "source": []
  }
 ],
 "metadata": {
  "kernelspec": {
   "display_name": "Python 3 (ipykernel)",
   "language": "python",
   "name": "python3"
  },
  "language_info": {
   "codemirror_mode": {
    "name": "ipython",
    "version": 3
   },
   "file_extension": ".py",
   "mimetype": "text/x-python",
   "name": "python",
   "nbconvert_exporter": "python",
   "pygments_lexer": "ipython3",
   "version": "3.12.7"
  }
 },
 "nbformat": 4,
 "nbformat_minor": 5
}
