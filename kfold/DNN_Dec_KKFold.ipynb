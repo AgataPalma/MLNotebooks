{
 "cells": [
  {
   "cell_type": "code",
   "execution_count": 1,
   "id": "8c1efd87-f77c-4b8d-a7d8-fbf42442721e",
   "metadata": {
    "editable": true,
    "slideshow": {
     "slide_type": ""
    },
    "tags": []
   },
   "outputs": [],
   "source": [
    "#Imports\n",
    "import pandas as pd\n",
    "import numpy as np\n",
    "from sklearn.model_selection import StratifiedKFold,cross_val_score, cross_val_predict\n",
    "from sklearn.preprocessing import LabelEncoder, StandardScaler\n",
    "from sklearn.metrics import f1_score, classification_report, make_scorer\n",
    "import tensorflow as tf\n",
    "from tensorflow.keras.models import Sequential\n",
    "from tensorflow.keras.layers import Dense, Dropout, Input\n",
    "from tensorflow.keras.optimizers import Adam\n",
    "import optuna\n",
    "from sklearn.model_selection import cross_val_predict\n",
    "from sklearn.metrics import classification_report\n",
    "from datetime import datetime\n",
    "import time"
   ]
  },
  {
   "cell_type": "code",
   "execution_count": 2,
   "id": "080f1d87-b391-4883-b3d5-5b8b875726f7",
   "metadata": {
    "editable": true,
    "slideshow": {
     "slide_type": ""
    },
    "tags": []
   },
   "outputs": [],
   "source": [
    "#Load the dataset\n",
    "df = pd.read_csv('complete_decimal_dataset.csv')"
   ]
  },
  {
   "cell_type": "code",
   "execution_count": 3,
   "id": "0d74a0dd-76af-4d24-b971-df1071d7d178",
   "metadata": {
    "editable": true,
    "slideshow": {
     "slide_type": ""
    },
    "tags": []
   },
   "outputs": [],
   "source": [
    "#Data Preprocessing\n",
    "label_encoder = LabelEncoder()\n",
    "df['specific_class_encoded'] = label_encoder.fit_transform(df['specific_class'])\n",
    "\n",
    "X = df.drop(columns=['label', 'category', 'specific_class', 'specific_class_encoded'])\n",
    "y = df['specific_class_encoded']\n",
    "\n",
    "scaler = StandardScaler()\n",
    "X_scaled = scaler.fit_transform(X)"
   ]
  },
  {
   "cell_type": "code",
   "execution_count": 4,
   "id": "eb572350-44a4-4fb8-a044-61e6c16c1956",
   "metadata": {
    "editable": true,
    "slideshow": {
     "slide_type": ""
    },
    "tags": []
   },
   "outputs": [],
   "source": [
    "#Model Definition\n",
    "def create_dnn_model(input_dim, layers, units, dropout_rate, learning_rate):\n",
    "    model = Sequential()\n",
    "    model.add(Input(shape=(input_dim,)))  \n",
    "    model.add(Dense(units, activation='relu'))\n",
    "    model.add(Dropout(dropout_rate))\n",
    "    \n",
    "    for _ in range(layers - 1):\n",
    "        model.add(Dense(units, activation='relu'))\n",
    "        model.add(Dropout(dropout_rate))\n",
    "    \n",
    "    model.add(Dense(len(np.unique(y)), activation='softmax'))  \n",
    "    model.compile(optimizer=Adam(learning_rate=learning_rate),\n",
    "                  loss='sparse_categorical_crossentropy',\n",
    "                  metrics=['accuracy'])\n",
    "    return model\n"
   ]
  },
  {
   "cell_type": "code",
   "execution_count": 5,
   "id": "e64c3cda-497d-479c-90a3-6ba83a19e71b",
   "metadata": {
    "editable": true,
    "slideshow": {
     "slide_type": ""
    },
    "tags": []
   },
   "outputs": [],
   "source": [
    "#Optimization Function\n",
    "def optimize_dnn(trial):\n",
    "    layers = trial.suggest_int('layers', 1, 5)\n",
    "    units = trial.suggest_int('units', 16, 128, step=16)\n",
    "    dropout_rate = trial.suggest_float('dropout_rate', 0.1, 0.5)\n",
    "    learning_rate = trial.suggest_float('learning_rate', 1e-4, 1e-2, log=True)\n",
    "    batch_size = trial.suggest_int('batch_size', 16, 128, step=16)\n",
    "    epochs = trial.suggest_int('epochs', 10, 50)\n",
    "\n",
    "    kfold = StratifiedKFold(n_splits=5, shuffle=True, random_state=42)\n",
    "\n",
    "    fold_scores = []\n",
    "\n",
    "    for train_idx, val_idx in kfold.split(X_scaled, y):\n",
    "        X_train, X_val = X_scaled[train_idx], X_scaled[val_idx]\n",
    "        y_train, y_val = y[train_idx], y[val_idx]\n",
    "\n",
    "        #Build model\n",
    "        model = create_dnn_model(X_train.shape[1], layers, units, dropout_rate, learning_rate)\n",
    "\n",
    "        #Train model\n",
    "        model.fit(\n",
    "            X_train, y_train,\n",
    "            epochs=epochs, batch_size=batch_size,\n",
    "            validation_data=(X_val, y_val),\n",
    "            verbose=0\n",
    "        )\n",
    "\n",
    "        #Predictions\n",
    "        y_pred = np.argmax(model.predict(X_val), axis=1)\n",
    "        fold_f1 = f1_score(y_val, y_pred, average='macro')\n",
    "        fold_scores.append(fold_f1)\n",
    "\n",
    "    return np.mean(fold_scores)\n"
   ]
  },
  {
   "cell_type": "code",
   "execution_count": 6,
   "id": "c3ad0dbe-fb90-41b3-9d7f-04abb3c07dc2",
   "metadata": {
    "editable": true,
    "slideshow": {
     "slide_type": ""
    },
    "tags": []
   },
   "outputs": [
    {
     "name": "stderr",
     "output_type": "stream",
     "text": [
      "[I 2025-01-28 18:14:10,045] A new study created in memory with name: no-name-4ec9c8d7-0ee3-401c-9f31-928ca1466c3d\n"
     ]
    },
    {
     "name": "stdout",
     "output_type": "stream",
     "text": [
      "\u001b[1m8802/8802\u001b[0m \u001b[32m━━━━━━━━━━━━━━━━━━━━\u001b[0m\u001b[37m\u001b[0m \u001b[1m9s\u001b[0m 968us/step\n",
      "\u001b[1m8802/8802\u001b[0m \u001b[32m━━━━━━━━━━━━━━━━━━━━\u001b[0m\u001b[37m\u001b[0m \u001b[1m9s\u001b[0m 1ms/step\n",
      "\u001b[1m8802/8802\u001b[0m \u001b[32m━━━━━━━━━━━━━━━━━━━━\u001b[0m\u001b[37m\u001b[0m \u001b[1m8s\u001b[0m 928us/step\n",
      "\u001b[1m8802/8802\u001b[0m \u001b[32m━━━━━━━━━━━━━━━━━━━━\u001b[0m\u001b[37m\u001b[0m \u001b[1m8s\u001b[0m 904us/step\n",
      "\u001b[1m8802/8802\u001b[0m \u001b[32m━━━━━━━━━━━━━━━━━━━━\u001b[0m\u001b[37m\u001b[0m \u001b[1m9s\u001b[0m 1ms/step\n"
     ]
    },
    {
     "name": "stderr",
     "output_type": "stream",
     "text": [
      "[I 2025-01-28 19:37:06,201] Trial 0 finished with value: 0.9999435289256897 and parameters: {'layers': 3, 'units': 112, 'dropout_rate': 0.3240283761223979, 'learning_rate': 0.005016195137692198, 'batch_size': 80, 'epochs': 40}. Best is trial 0 with value: 0.9999435289256897.\n"
     ]
    },
    {
     "name": "stdout",
     "output_type": "stream",
     "text": [
      "\u001b[1m8802/8802\u001b[0m \u001b[32m━━━━━━━━━━━━━━━━━━━━\u001b[0m\u001b[37m\u001b[0m \u001b[1m8s\u001b[0m 951us/step\n",
      "\u001b[1m8802/8802\u001b[0m \u001b[32m━━━━━━━━━━━━━━━━━━━━\u001b[0m\u001b[37m\u001b[0m \u001b[1m8s\u001b[0m 943us/step\n",
      "\u001b[1m8802/8802\u001b[0m \u001b[32m━━━━━━━━━━━━━━━━━━━━\u001b[0m\u001b[37m\u001b[0m \u001b[1m8s\u001b[0m 938us/step\n",
      "\u001b[1m8802/8802\u001b[0m \u001b[32m━━━━━━━━━━━━━━━━━━━━\u001b[0m\u001b[37m\u001b[0m \u001b[1m8s\u001b[0m 944us/step\n",
      "\u001b[1m8802/8802\u001b[0m \u001b[32m━━━━━━━━━━━━━━━━━━━━\u001b[0m\u001b[37m\u001b[0m \u001b[1m8s\u001b[0m 950us/step\n"
     ]
    },
    {
     "name": "stderr",
     "output_type": "stream",
     "text": [
      "[I 2025-01-28 19:56:36,326] Trial 1 finished with value: 0.5882158143768952 and parameters: {'layers': 3, 'units': 16, 'dropout_rate': 0.49261931910299894, 'learning_rate': 0.00010358991013751943, 'batch_size': 80, 'epochs': 12}. Best is trial 0 with value: 0.9999435289256897.\n"
     ]
    },
    {
     "name": "stdout",
     "output_type": "stream",
     "text": [
      "\u001b[1m8802/8802\u001b[0m \u001b[32m━━━━━━━━━━━━━━━━━━━━\u001b[0m\u001b[37m\u001b[0m \u001b[1m8s\u001b[0m 920us/step\n",
      "\u001b[1m8802/8802\u001b[0m \u001b[32m━━━━━━━━━━━━━━━━━━━━\u001b[0m\u001b[37m\u001b[0m \u001b[1m8s\u001b[0m 954us/step\n",
      "\u001b[1m8802/8802\u001b[0m \u001b[32m━━━━━━━━━━━━━━━━━━━━\u001b[0m\u001b[37m\u001b[0m \u001b[1m8s\u001b[0m 927us/step\n",
      "\u001b[1m8802/8802\u001b[0m \u001b[32m━━━━━━━━━━━━━━━━━━━━\u001b[0m\u001b[37m\u001b[0m \u001b[1m8s\u001b[0m 938us/step\n",
      "\u001b[1m8802/8802\u001b[0m \u001b[32m━━━━━━━━━━━━━━━━━━━━\u001b[0m\u001b[37m\u001b[0m \u001b[1m8s\u001b[0m 941us/step\n"
     ]
    },
    {
     "name": "stderr",
     "output_type": "stream",
     "text": [
      "[I 2025-01-28 20:53:34,898] Trial 2 finished with value: 0.9999682681041617 and parameters: {'layers': 2, 'units': 112, 'dropout_rate': 0.41537543029431667, 'learning_rate': 0.004479647803917762, 'batch_size': 128, 'epochs': 47}. Best is trial 2 with value: 0.9999682681041617.\n"
     ]
    },
    {
     "name": "stdout",
     "output_type": "stream",
     "text": [
      "\u001b[1m8802/8802\u001b[0m \u001b[32m━━━━━━━━━━━━━━━━━━━━\u001b[0m\u001b[37m\u001b[0m \u001b[1m9s\u001b[0m 981us/step\n",
      "\u001b[1m8802/8802\u001b[0m \u001b[32m━━━━━━━━━━━━━━━━━━━━\u001b[0m\u001b[37m\u001b[0m \u001b[1m9s\u001b[0m 988us/step\n",
      "\u001b[1m8802/8802\u001b[0m \u001b[32m━━━━━━━━━━━━━━━━━━━━\u001b[0m\u001b[37m\u001b[0m \u001b[1m9s\u001b[0m 1ms/step\n",
      "\u001b[1m8802/8802\u001b[0m \u001b[32m━━━━━━━━━━━━━━━━━━━━\u001b[0m\u001b[37m\u001b[0m \u001b[1m9s\u001b[0m 979us/step\n",
      "\u001b[1m8802/8802\u001b[0m \u001b[32m━━━━━━━━━━━━━━━━━━━━\u001b[0m\u001b[37m\u001b[0m \u001b[1m9s\u001b[0m 993us/step\n"
     ]
    },
    {
     "name": "stderr",
     "output_type": "stream",
     "text": [
      "[I 2025-01-28 21:57:50,217] Trial 3 finished with value: 0.9999622355306673 and parameters: {'layers': 4, 'units': 64, 'dropout_rate': 0.4934957041195418, 'learning_rate': 0.0010678746138302968, 'batch_size': 80, 'epochs': 32}. Best is trial 2 with value: 0.9999682681041617.\n"
     ]
    },
    {
     "name": "stdout",
     "output_type": "stream",
     "text": [
      "\u001b[1m8802/8802\u001b[0m \u001b[32m━━━━━━━━━━━━━━━━━━━━\u001b[0m\u001b[37m\u001b[0m \u001b[1m10s\u001b[0m 1ms/step\n",
      "\u001b[1m8802/8802\u001b[0m \u001b[32m━━━━━━━━━━━━━━━━━━━━\u001b[0m\u001b[37m\u001b[0m \u001b[1m9s\u001b[0m 1ms/step\n",
      "\u001b[1m8802/8802\u001b[0m \u001b[32m━━━━━━━━━━━━━━━━━━━━\u001b[0m\u001b[37m\u001b[0m \u001b[1m9s\u001b[0m 995us/step\n",
      "\u001b[1m8802/8802\u001b[0m \u001b[32m━━━━━━━━━━━━━━━━━━━━\u001b[0m\u001b[37m\u001b[0m \u001b[1m9s\u001b[0m 1ms/step\n",
      "\u001b[1m8802/8802\u001b[0m \u001b[32m━━━━━━━━━━━━━━━━━━━━\u001b[0m\u001b[37m\u001b[0m \u001b[1m9s\u001b[0m 973us/step\n"
     ]
    },
    {
     "name": "stderr",
     "output_type": "stream",
     "text": [
      "[I 2025-01-28 22:53:15,889] Trial 4 finished with value: 1.0 and parameters: {'layers': 4, 'units': 96, 'dropout_rate': 0.24552040101739658, 'learning_rate': 0.00010682901273334459, 'batch_size': 128, 'epochs': 34}. Best is trial 4 with value: 1.0.\n"
     ]
    },
    {
     "name": "stdout",
     "output_type": "stream",
     "text": [
      "\u001b[1m8802/8802\u001b[0m \u001b[32m━━━━━━━━━━━━━━━━━━━━\u001b[0m\u001b[37m\u001b[0m \u001b[1m8s\u001b[0m 959us/step\n",
      "\u001b[1m8802/8802\u001b[0m \u001b[32m━━━━━━━━━━━━━━━━━━━━\u001b[0m\u001b[37m\u001b[0m \u001b[1m9s\u001b[0m 1ms/step\n",
      "\u001b[1m8802/8802\u001b[0m \u001b[32m━━━━━━━━━━━━━━━━━━━━\u001b[0m\u001b[37m\u001b[0m \u001b[1m8s\u001b[0m 938us/step\n",
      "\u001b[1m8802/8802\u001b[0m \u001b[32m━━━━━━━━━━━━━━━━━━━━\u001b[0m\u001b[37m\u001b[0m \u001b[1m8s\u001b[0m 941us/step\n",
      "\u001b[1m8802/8802\u001b[0m \u001b[32m━━━━━━━━━━━━━━━━━━━━\u001b[0m\u001b[37m\u001b[0m \u001b[1m8s\u001b[0m 925us/step\n"
     ]
    },
    {
     "name": "stderr",
     "output_type": "stream",
     "text": [
      "[I 2025-01-28 23:25:25,354] Trial 5 finished with value: 0.7928541294944024 and parameters: {'layers': 3, 'units': 16, 'dropout_rate': 0.30930864021264504, 'learning_rate': 0.005311893651972563, 'batch_size': 96, 'epochs': 23}. Best is trial 4 with value: 1.0.\n"
     ]
    },
    {
     "name": "stdout",
     "output_type": "stream",
     "text": [
      "\u001b[1m8802/8802\u001b[0m \u001b[32m━━━━━━━━━━━━━━━━━━━━\u001b[0m\u001b[37m\u001b[0m \u001b[1m8s\u001b[0m 900us/step\n",
      "\u001b[1m8802/8802\u001b[0m \u001b[32m━━━━━━━━━━━━━━━━━━━━\u001b[0m\u001b[37m\u001b[0m \u001b[1m8s\u001b[0m 890us/step\n",
      "\u001b[1m8802/8802\u001b[0m \u001b[32m━━━━━━━━━━━━━━━━━━━━\u001b[0m\u001b[37m\u001b[0m \u001b[1m8s\u001b[0m 879us/step\n",
      "\u001b[1m8802/8802\u001b[0m \u001b[32m━━━━━━━━━━━━━━━━━━━━\u001b[0m\u001b[37m\u001b[0m \u001b[1m8s\u001b[0m 873us/step\n",
      "\u001b[1m8802/8802\u001b[0m \u001b[32m━━━━━━━━━━━━━━━━━━━━\u001b[0m\u001b[37m\u001b[0m \u001b[1m8s\u001b[0m 891us/step\n"
     ]
    },
    {
     "name": "stderr",
     "output_type": "stream",
     "text": [
      "[I 2025-01-29 00:13:15,886] Trial 6 finished with value: 1.0 and parameters: {'layers': 2, 'units': 48, 'dropout_rate': 0.1696089970273834, 'learning_rate': 0.002894261858747309, 'batch_size': 128, 'epochs': 47}. Best is trial 4 with value: 1.0.\n"
     ]
    },
    {
     "name": "stdout",
     "output_type": "stream",
     "text": [
      "\u001b[1m8802/8802\u001b[0m \u001b[32m━━━━━━━━━━━━━━━━━━━━\u001b[0m\u001b[37m\u001b[0m \u001b[1m8s\u001b[0m 877us/step\n",
      "\u001b[1m8802/8802\u001b[0m \u001b[32m━━━━━━━━━━━━━━━━━━━━\u001b[0m\u001b[37m\u001b[0m \u001b[1m8s\u001b[0m 878us/step\n",
      "\u001b[1m8802/8802\u001b[0m \u001b[32m━━━━━━━━━━━━━━━━━━━━\u001b[0m\u001b[37m\u001b[0m \u001b[1m8s\u001b[0m 877us/step\n",
      "\u001b[1m8802/8802\u001b[0m \u001b[32m━━━━━━━━━━━━━━━━━━━━\u001b[0m\u001b[37m\u001b[0m \u001b[1m8s\u001b[0m 870us/step\n",
      "\u001b[1m8802/8802\u001b[0m \u001b[32m━━━━━━━━━━━━━━━━━━━━\u001b[0m\u001b[37m\u001b[0m \u001b[1m8s\u001b[0m 861us/step\n"
     ]
    },
    {
     "name": "stderr",
     "output_type": "stream",
     "text": [
      "[I 2025-01-29 01:31:54,160] Trial 7 finished with value: 0.9999587510855334 and parameters: {'layers': 1, 'units': 96, 'dropout_rate': 0.13474469204454215, 'learning_rate': 0.0002546799043578438, 'batch_size': 32, 'epochs': 24}. Best is trial 4 with value: 1.0.\n"
     ]
    },
    {
     "name": "stdout",
     "output_type": "stream",
     "text": [
      "\u001b[1m8802/8802\u001b[0m \u001b[32m━━━━━━━━━━━━━━━━━━━━\u001b[0m\u001b[37m\u001b[0m \u001b[1m9s\u001b[0m 985us/step\n",
      "\u001b[1m8802/8802\u001b[0m \u001b[32m━━━━━━━━━━━━━━━━━━━━\u001b[0m\u001b[37m\u001b[0m \u001b[1m9s\u001b[0m 976us/step\n",
      "\u001b[1m8802/8802\u001b[0m \u001b[32m━━━━━━━━━━━━━━━━━━━━\u001b[0m\u001b[37m\u001b[0m \u001b[1m9s\u001b[0m 986us/step\n",
      "\u001b[1m8802/8802\u001b[0m \u001b[32m━━━━━━━━━━━━━━━━━━━━\u001b[0m\u001b[37m\u001b[0m \u001b[1m9s\u001b[0m 978us/step\n",
      "\u001b[1m8802/8802\u001b[0m \u001b[32m━━━━━━━━━━━━━━━━━━━━\u001b[0m\u001b[37m\u001b[0m \u001b[1m9s\u001b[0m 979us/step\n"
     ]
    },
    {
     "name": "stderr",
     "output_type": "stream",
     "text": [
      "[I 2025-01-29 04:39:21,474] Trial 8 finished with value: 0.9999534413326417 and parameters: {'layers': 4, 'units': 80, 'dropout_rate': 0.4149153228696153, 'learning_rate': 0.0011577163846692724, 'batch_size': 32, 'epochs': 39}. Best is trial 4 with value: 1.0.\n"
     ]
    },
    {
     "name": "stdout",
     "output_type": "stream",
     "text": [
      "\u001b[1m8802/8802\u001b[0m \u001b[32m━━━━━━━━━━━━━━━━━━━━\u001b[0m\u001b[37m\u001b[0m \u001b[1m8s\u001b[0m 949us/step\n",
      "\u001b[1m8802/8802\u001b[0m \u001b[32m━━━━━━━━━━━━━━━━━━━━\u001b[0m\u001b[37m\u001b[0m \u001b[1m8s\u001b[0m 934us/step\n",
      "\u001b[1m8802/8802\u001b[0m \u001b[32m━━━━━━━━━━━━━━━━━━━━\u001b[0m\u001b[37m\u001b[0m \u001b[1m8s\u001b[0m 928us/step\n",
      "\u001b[1m8802/8802\u001b[0m \u001b[32m━━━━━━━━━━━━━━━━━━━━\u001b[0m\u001b[37m\u001b[0m \u001b[1m8s\u001b[0m 944us/step\n",
      "\u001b[1m8802/8802\u001b[0m \u001b[32m━━━━━━━━━━━━━━━━━━━━\u001b[0m\u001b[37m\u001b[0m \u001b[1m10s\u001b[0m 1ms/step\n"
     ]
    },
    {
     "name": "stderr",
     "output_type": "stream",
     "text": [
      "[I 2025-01-29 05:27:17,429] Trial 9 finished with value: 0.9999381056547467 and parameters: {'layers': 3, 'units': 96, 'dropout_rate': 0.22774230359927441, 'learning_rate': 0.0066453775036853695, 'batch_size': 64, 'epochs': 20}. Best is trial 4 with value: 1.0.\n"
     ]
    }
   ],
   "source": [
    "#Optuna study with stratified cross-validation\n",
    "study = optuna.create_study(direction='maximize')\n",
    "study.optimize(optimize_dnn, n_trials=10)"
   ]
  },
  {
   "cell_type": "code",
   "execution_count": 7,
   "id": "b505763f-c130-4ffd-b53f-f0e674741410",
   "metadata": {},
   "outputs": [
    {
     "name": "stdout",
     "output_type": "stream",
     "text": [
      "Best hyperparameters: {'layers': 4, 'units': 96, 'dropout_rate': 0.24552040101739658, 'learning_rate': 0.00010682901273334459, 'batch_size': 128, 'epochs': 34}\n"
     ]
    }
   ],
   "source": [
    "#Best parameters\n",
    "print(\"Best hyperparameters:\", study.best_params)"
   ]
  },
  {
   "cell_type": "code",
   "execution_count": 8,
   "id": "736b9c50-38f6-410b-9790-750772fd0d2d",
   "metadata": {
    "editable": true,
    "slideshow": {
     "slide_type": ""
    },
    "tags": []
   },
   "outputs": [
    {
     "name": "stdout",
     "output_type": "stream",
     "text": [
      "Training fold 1...\n",
      "\u001b[1m4401/4401\u001b[0m \u001b[32m━━━━━━━━━━━━━━━━━━━━\u001b[0m\u001b[37m\u001b[0m \u001b[1m4s\u001b[0m 907us/step\n",
      "Training fold 2...\n",
      "\u001b[1m4401/4401\u001b[0m \u001b[32m━━━━━━━━━━━━━━━━━━━━\u001b[0m\u001b[37m\u001b[0m \u001b[1m4s\u001b[0m 941us/step\n",
      "Training fold 3...\n",
      "\u001b[1m4401/4401\u001b[0m \u001b[32m━━━━━━━━━━━━━━━━━━━━\u001b[0m\u001b[37m\u001b[0m \u001b[1m4s\u001b[0m 912us/step\n",
      "Training fold 4...\n",
      "\u001b[1m4401/4401\u001b[0m \u001b[32m━━━━━━━━━━━━━━━━━━━━\u001b[0m\u001b[37m\u001b[0m \u001b[1m4s\u001b[0m 926us/step\n",
      "Training fold 5...\n",
      "\u001b[1m4401/4401\u001b[0m \u001b[32m━━━━━━━━━━━━━━━━━━━━\u001b[0m\u001b[37m\u001b[0m \u001b[1m4s\u001b[0m 938us/step\n",
      "Training fold 6...\n",
      "\u001b[1m4401/4401\u001b[0m \u001b[32m━━━━━━━━━━━━━━━━━━━━\u001b[0m\u001b[37m\u001b[0m \u001b[1m4s\u001b[0m 892us/step\n",
      "Training fold 7...\n",
      "\u001b[1m4401/4401\u001b[0m \u001b[32m━━━━━━━━━━━━━━━━━━━━\u001b[0m\u001b[37m\u001b[0m \u001b[1m4s\u001b[0m 931us/step\n",
      "Training fold 8...\n",
      "\u001b[1m4401/4401\u001b[0m \u001b[32m━━━━━━━━━━━━━━━━━━━━\u001b[0m\u001b[37m\u001b[0m \u001b[1m4s\u001b[0m 917us/step\n",
      "Training fold 9...\n",
      "\u001b[1m4401/4401\u001b[0m \u001b[32m━━━━━━━━━━━━━━━━━━━━\u001b[0m\u001b[37m\u001b[0m \u001b[1m4s\u001b[0m 931us/step\n",
      "Training fold 10...\n",
      "\u001b[1m4401/4401\u001b[0m \u001b[32m━━━━━━━━━━━━━━━━━━━━\u001b[0m\u001b[37m\u001b[0m \u001b[1m4s\u001b[0m 913us/step\n"
     ]
    }
   ],
   "source": [
    "#Final model training with optimized hyperparameters\n",
    "\n",
    "best_params = study.best_params\n",
    "kfold = StratifiedKFold(n_splits=10, shuffle=True, random_state=42)\n",
    "final_predictions = np.zeros_like(y)\n",
    "final_true_labels = y\n",
    "\n",
    "fold_no = 1\n",
    "start_time = time.time()\n",
    "\n",
    "for train_idx, val_idx in kfold.split(X_scaled, y):\n",
    "    X_train, X_val = X_scaled[train_idx], X_scaled[val_idx]\n",
    "    y_train, y_val = y[train_idx], y[val_idx]\n",
    "\n",
    "    model = create_dnn_model(\n",
    "        X_train.shape[1],\n",
    "        layers=best_params['layers'],\n",
    "        units=best_params['units'],\n",
    "        dropout_rate=best_params['dropout_rate'],\n",
    "        learning_rate=best_params['learning_rate']\n",
    "    )\n",
    "\n",
    "    early_stopping = tf.keras.callbacks.EarlyStopping(\n",
    "        monitor='val_loss', patience=5, restore_best_weights=True\n",
    "    )\n",
    "\n",
    "    print(f\"Training fold {fold_no}...\")\n",
    "    model.fit(\n",
    "        X_train,\n",
    "        y_train,\n",
    "        epochs=best_params['epochs'],\n",
    "        batch_size=best_params['batch_size'],\n",
    "        validation_data=(X_val, y_val),\n",
    "        callbacks=[early_stopping],\n",
    "        verbose=0\n",
    "    )\n",
    "\n",
    "    fold_predictions = np.argmax(model.predict(X_val), axis=1)\n",
    "    final_predictions[val_idx] = fold_predictions\n",
    "\n",
    "    #Print classification report for each fold\n",
    "    #print(f\"Fold {fold_no} Classification Report:\\n\")\n",
    "    #print(classification_report(y_val, fold_predictions))\n",
    "\n",
    "    fold_no += 1\n",
    "end_time = time.time()"
   ]
  },
  {
   "cell_type": "code",
   "execution_count": 9,
   "id": "0388df71-2703-4481-b84f-13bb3d957eee",
   "metadata": {},
   "outputs": [
    {
     "name": "stdout",
     "output_type": "stream",
     "text": [
      "Model training time: 5104.42 seconds\n"
     ]
    }
   ],
   "source": [
    "training_duration = end_time - start_time\n",
    "print(f\"Model training time: {training_duration:.2f} seconds\")"
   ]
  },
  {
   "cell_type": "code",
   "execution_count": 10,
   "id": "6fd5ead5-b524-4e45-8d86-cc7607519809",
   "metadata": {},
   "outputs": [
    {
     "name": "stdout",
     "output_type": "stream",
     "text": [
      "\n",
      "Final Classification Report:\n",
      "\n",
      "              precision    recall  f1-score   support\n",
      "\n",
      "           0       1.00      1.00      1.00   1223737\n",
      "           1       1.00      1.00      1.00     74663\n",
      "           2       1.00      1.00      1.00      9991\n",
      "           3       1.00      1.00      1.00     54900\n",
      "           4       1.00      1.00      1.00     24951\n",
      "           5       1.00      1.00      1.00     19977\n",
      "\n",
      "    accuracy                           1.00   1408219\n",
      "   macro avg       1.00      1.00      1.00   1408219\n",
      "weighted avg       1.00      1.00      1.00   1408219\n",
      "\n"
     ]
    }
   ],
   "source": [
    "print(\"\\nFinal Classification Report:\\n\")\n",
    "print(classification_report(final_true_labels, final_predictions))"
   ]
  }
 ],
 "metadata": {
  "kernelspec": {
   "display_name": "Python 3 (ipykernel)",
   "language": "python",
   "name": "python3"
  },
  "language_info": {
   "codemirror_mode": {
    "name": "ipython",
    "version": 3
   },
   "file_extension": ".py",
   "mimetype": "text/x-python",
   "name": "python",
   "nbconvert_exporter": "python",
   "pygments_lexer": "ipython3",
   "version": "3.12.7"
  }
 },
 "nbformat": 4,
 "nbformat_minor": 5
}
