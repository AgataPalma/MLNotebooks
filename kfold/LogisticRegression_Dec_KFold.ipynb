{
 "cells": [
  {
   "cell_type": "code",
   "execution_count": 1,
   "id": "84c76f8b",
   "metadata": {
    "editable": true,
    "slideshow": {
     "slide_type": ""
    },
    "tags": []
   },
   "outputs": [],
   "source": [
    "import pandas as pd\n",
    "from sklearn.model_selection import StratifiedKFold, cross_val_score, cross_val_predict\n",
    "from sklearn.linear_model import LogisticRegression\n",
    "from sklearn.metrics import classification_report, make_scorer, f1_score\n",
    "from sklearn.preprocessing import LabelEncoder, StandardScaler\n",
    "import optuna\n",
    "from datetime import datetime\n",
    "import time"
   ]
  },
  {
   "cell_type": "code",
   "execution_count": 2,
   "id": "27596c1b-ab22-479d-9826-2d4637591057",
   "metadata": {},
   "outputs": [],
   "source": [
    "#Load the dataset\n",
    "df = pd.read_csv('complete_decimal_dataset.csv')"
   ]
  },
  {
   "cell_type": "code",
   "execution_count": 3,
   "id": "1697414d",
   "metadata": {
    "editable": true,
    "slideshow": {
     "slide_type": ""
    },
    "tags": []
   },
   "outputs": [],
   "source": [
    "#Data Preprocessing\n",
    "label_encoder = LabelEncoder()\n",
    "df['specific_class_encoded'] = label_encoder.fit_transform(df['specific_class'])\n",
    "\n",
    "X = df.drop(columns=['label', 'category', 'specific_class', 'specific_class_encoded'])\n",
    "y = df['specific_class_encoded']\n",
    "\n",
    "scaler = StandardScaler()\n",
    "X_scaled = scaler.fit_transform(X)\n"
   ]
  },
  {
   "cell_type": "code",
   "execution_count": 4,
   "id": "b1330e7e",
   "metadata": {
    "editable": true,
    "slideshow": {
     "slide_type": ""
    },
    "tags": []
   },
   "outputs": [],
   "source": [
    "#Optimization function\n",
    "def optimize_logistic_regression(trial):\n",
    "    C = trial.suggest_float('C', 1e-4, 10.0, log=True)\n",
    "    penalty = trial.suggest_categorical('penalty', ['l1', 'l2', 'elasticnet'])\n",
    "    solver = trial.suggest_categorical('solver', ['liblinear', 'saga', 'lbfgs'])\n",
    "\n",
    "    #l1_ratio if elasticnet is selected\n",
    "    l1_ratio = None\n",
    "    if penalty == 'elasticnet':\n",
    "        if solver != 'saga':  # Elasticnet only works with saga solver\n",
    "            raise optuna.TrialPruned()\n",
    "        l1_ratio = trial.suggest_float('l1_ratio', 0.0, 1.0)\n",
    "\n",
    "    #compatibility between penalty and solver\n",
    "    if penalty == 'l1' and solver not in ['liblinear', 'saga']:\n",
    "        raise optuna.TrialPruned()\n",
    "    if penalty == 'l2' and solver not in ['lbfgs', 'liblinear', 'saga']:\n",
    "        raise optuna.TrialPruned()\n",
    "\n",
    "    #Logistic Regression model\n",
    "    model = LogisticRegression(\n",
    "        C=C, penalty=penalty, solver=solver, random_state=42, max_iter=1000, l1_ratio=l1_ratio\n",
    "    )\n",
    "\n",
    "    stratified_kfold = StratifiedKFold(n_splits=5, shuffle=True, random_state=42)\n",
    "    scorer = make_scorer(f1_score, average='macro')\n",
    "    scores = cross_val_score(model, X_scaled, y, cv=stratified_kfold, scoring=scorer, n_jobs=-1).mean()\n",
    "\n",
    "    return scores\n"
   ]
  },
  {
   "cell_type": "code",
   "execution_count": 5,
   "id": "d1096327-160d-4dad-9364-2a02bcbf7265",
   "metadata": {
    "editable": true,
    "slideshow": {
     "slide_type": ""
    },
    "tags": []
   },
   "outputs": [
    {
     "name": "stderr",
     "output_type": "stream",
     "text": [
      "[I 2025-01-29 13:58:15,001] A new study created in memory with name: no-name-7ddeac39-922e-444f-94fe-2f9746e0c508\n",
      "[I 2025-01-29 13:58:15,031] Trial 6 pruned. \n",
      "[I 2025-01-29 14:02:12,939] Trial 7 finished with value: 0.8356915191511065 and parameters: {'C': 0.13124366465765952, 'penalty': 'l2', 'solver': 'liblinear'}. Best is trial 7 with value: 0.8356915191511065.\n",
      "[I 2025-01-29 14:08:05,233] Trial 9 finished with value: 0.8402619364467958 and parameters: {'C': 2.471662902691288, 'penalty': 'l2', 'solver': 'liblinear'}. Best is trial 9 with value: 0.8402619364467958.\n",
      "[I 2025-01-29 14:09:57,238] Trial 2 finished with value: 0.8591338467263402 and parameters: {'C': 0.3416727358467226, 'penalty': 'l2', 'solver': 'saga'}. Best is trial 2 with value: 0.8591338467263402.\n",
      "[I 2025-01-29 14:18:12,283] Trial 3 finished with value: 0.24624570212915353 and parameters: {'C': 0.00012738196640488703, 'penalty': 'l2', 'solver': 'lbfgs'}. Best is trial 2 with value: 0.8591338467263402.\n",
      "[I 2025-01-29 14:21:59,992] Trial 1 finished with value: 0.8591106414433302 and parameters: {'C': 1.0255888726799418, 'penalty': 'elasticnet', 'solver': 'saga', 'l1_ratio': 0.14665241751545421}. Best is trial 2 with value: 0.8591338467263402.\n",
      "[I 2025-01-29 14:29:21,852] Trial 8 finished with value: 0.8591165189046134 and parameters: {'C': 0.15098153972624764, 'penalty': 'elasticnet', 'solver': 'saga', 'l1_ratio': 0.7885232690072678}. Best is trial 2 with value: 0.8591338467263402.\n",
      "[I 2025-01-29 14:39:16,441] Trial 5 finished with value: 0.8591156763908542 and parameters: {'C': 0.5645352941759934, 'penalty': 'l2', 'solver': 'saga'}. Best is trial 2 with value: 0.8591338467263402.\n",
      "[I 2025-01-29 14:53:46,679] Trial 4 finished with value: 0.8787130393463546 and parameters: {'C': 3.8125876691241496, 'penalty': 'elasticnet', 'solver': 'saga', 'l1_ratio': 0.6893127194965967}. Best is trial 4 with value: 0.8787130393463546.\n",
      "[I 2025-01-29 15:04:52,005] Trial 0 finished with value: 0.8808163987497011 and parameters: {'C': 3.2376253329526534, 'penalty': 'l1', 'solver': 'saga'}. Best is trial 0 with value: 0.8808163987497011.\n"
     ]
    }
   ],
   "source": [
    "#Optuna study with stratified cross-validation\n",
    "study_lr = optuna.create_study(direction=\"maximize\")\n",
    "study_lr.optimize(optimize_logistic_regression, n_trials=10, n_jobs=-1)\n"
   ]
  },
  {
   "cell_type": "code",
   "execution_count": 6,
   "id": "2b83a90f-1293-40d1-9355-0c5b53681e64",
   "metadata": {
    "editable": true,
    "slideshow": {
     "slide_type": ""
    },
    "tags": []
   },
   "outputs": [
    {
     "name": "stdout",
     "output_type": "stream",
     "text": [
      "Best parameters for Random Forest: {'C': 3.2376253329526534, 'penalty': 'l1', 'solver': 'saga'}\n"
     ]
    }
   ],
   "source": [
    "#Best parameters\n",
    "print(f\"Best parameters for Random Forest: {study_lr.best_params}\")"
   ]
  },
  {
   "cell_type": "code",
   "execution_count": 7,
   "id": "2d120ee1-9d32-4eb8-87f9-e3cf5b3e3fdf",
   "metadata": {
    "editable": true,
    "slideshow": {
     "slide_type": ""
    },
    "tags": []
   },
   "outputs": [],
   "source": [
    "#optimized hyperparameters\n",
    "best_params = study_lr.best_params\n",
    "model = LogisticRegression(**best_params, random_state=42, max_iter=1000)"
   ]
  },
  {
   "cell_type": "code",
   "execution_count": 8,
   "id": "42a10525-39c0-42d5-a5d5-66215cff46e8",
   "metadata": {
    "editable": true,
    "slideshow": {
     "slide_type": ""
    },
    "tags": []
   },
   "outputs": [],
   "source": [
    "#10-fold cross-validation \n",
    "stratified_kfold = StratifiedKFold(n_splits=10, shuffle=True, random_state=42)\n",
    "start_time = time.time()\n",
    "y_pred = cross_val_predict(model, X_scaled, y, cv=stratified_kfold, n_jobs=-1)\n",
    "end_time = time.time()"
   ]
  },
  {
   "cell_type": "code",
   "execution_count": 9,
   "id": "68402228-b4ee-4c69-bead-f4e7e6538ab1",
   "metadata": {},
   "outputs": [
    {
     "name": "stdout",
     "output_type": "stream",
     "text": [
      "Model training time: 3647.24 seconds\n"
     ]
    }
   ],
   "source": [
    "#Evaluate the time it takes to train the model\n",
    "training_duration = end_time - start_time\n",
    "print(f\"Model training time: {training_duration:.2f} seconds\")"
   ]
  },
  {
   "cell_type": "code",
   "execution_count": 10,
   "id": "9f88ae70",
   "metadata": {},
   "outputs": [
    {
     "name": "stdout",
     "output_type": "stream",
     "text": [
      "Classification Report with Tuned Hyperparameters and 10-Fold CV:\n",
      "\n",
      "              precision    recall  f1-score   support\n",
      "\n",
      "           0       0.96      1.00      0.98   1223737\n",
      "           1       1.00      1.00      1.00     74663\n",
      "           2       1.00      1.00      1.00      9991\n",
      "           3       0.92      0.18      0.30     54900\n",
      "           4       1.00      1.00      1.00     24951\n",
      "           5       1.00      1.00      1.00     19977\n",
      "\n",
      "    accuracy                           0.97   1408219\n",
      "   macro avg       0.98      0.86      0.88   1408219\n",
      "weighted avg       0.97      0.97      0.96   1408219\n",
      "\n"
     ]
    }
   ],
   "source": [
    "#Classification report\n",
    "report = classification_report(y, y_pred)\n",
    "print(\"Classification Report with Tuned Hyperparameters and 10-Fold CV:\\n\")\n",
    "print(report)\n"
   ]
  }
 ],
 "metadata": {
  "kernelspec": {
   "display_name": "Python 3 (ipykernel)",
   "language": "python",
   "name": "python3"
  },
  "language_info": {
   "codemirror_mode": {
    "name": "ipython",
    "version": 3
   },
   "file_extension": ".py",
   "mimetype": "text/x-python",
   "name": "python",
   "nbconvert_exporter": "python",
   "pygments_lexer": "ipython3",
   "version": "3.12.7"
  }
 },
 "nbformat": 4,
 "nbformat_minor": 5
}
