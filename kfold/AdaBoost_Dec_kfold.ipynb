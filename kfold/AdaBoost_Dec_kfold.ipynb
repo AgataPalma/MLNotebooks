{
 "cells": [
  {
   "cell_type": "code",
   "execution_count": 1,
   "id": "e3db920f-439e-4f72-ba58-2efea565508c",
   "metadata": {
    "editable": true,
    "slideshow": {
     "slide_type": ""
    },
    "tags": []
   },
   "outputs": [],
   "source": [
    "#Imports\n",
    "import pandas as pd\n",
    "from sklearn.model_selection import cross_val_score, StratifiedKFold, cross_val_predict\n",
    "from sklearn.ensemble import AdaBoostClassifier\n",
    "from sklearn.metrics import classification_report, make_scorer, f1_score\n",
    "from sklearn.tree import DecisionTreeClassifier\n",
    "from sklearn.preprocessing import LabelEncoder, StandardScaler\n",
    "import optuna\n",
    "from datetime import datetime\n",
    "import time"
   ]
  },
  {
   "cell_type": "code",
   "execution_count": 2,
   "id": "2f699be2-d551-4c15-8da0-aac68a522dba",
   "metadata": {
    "editable": true,
    "slideshow": {
     "slide_type": ""
    },
    "tags": []
   },
   "outputs": [],
   "source": [
    "#Load the dataset\n",
    "df = pd.read_csv('complete_decimal_dataset.csv')"
   ]
  },
  {
   "cell_type": "code",
   "execution_count": 3,
   "id": "8eac1155-c3c7-4439-b944-74d0996a634c",
   "metadata": {},
   "outputs": [],
   "source": [
    "#Data Preprocessing\n",
    "label_encoder = LabelEncoder()\n",
    "df['specific_class_encoded'] = label_encoder.fit_transform(df['specific_class'])\n",
    "\n",
    "X = df.drop(columns=['label', 'category', 'specific_class', 'specific_class_encoded'])\n",
    "y = df['specific_class_encoded']\n",
    "\n",
    "scaler = StandardScaler()\n",
    "X_scaled = scaler.fit_transform(X)"
   ]
  },
  {
   "cell_type": "code",
   "execution_count": 4,
   "id": "35d95874-54ef-4f38-b79a-270a210ce8cd",
   "metadata": {
    "editable": true,
    "slideshow": {
     "slide_type": ""
    },
    "tags": []
   },
   "outputs": [],
   "source": [
    "#Optimization function\n",
    "def optimize_adaboost(trial):\n",
    "    n_estimators = trial.suggest_int('n_estimators', 50, 500)\n",
    "    learning_rate = trial.suggest_float('learning_rate', 0.01, 1.0, log=True)\n",
    "\n",
    "    clf = AdaBoostClassifier(\n",
    "        n_estimators=n_estimators, \n",
    "        learning_rate=learning_rate,\n",
    "        algorithm=\"SAMME\",\n",
    "        random_state=42\n",
    "    )\n",
    "    \n",
    "    kfold = StratifiedKFold(n_splits=5, shuffle=True, random_state=42)\n",
    "    scorer = make_scorer(f1_score, average='macro')\n",
    "    scores = cross_val_score(clf, X_scaled, y, cv=kfold, scoring=scorer, n_jobs=-1).mean()\n",
    "    return scores"
   ]
  },
  {
   "cell_type": "code",
   "execution_count": 5,
   "id": "b6b8559e-aa5d-43ba-aa97-0af0a3662470",
   "metadata": {
    "editable": true,
    "slideshow": {
     "slide_type": ""
    },
    "tags": []
   },
   "outputs": [
    {
     "name": "stderr",
     "output_type": "stream",
     "text": [
      "[I 2025-01-27 20:28:58,749] A new study created in memory with name: no-name-91cb90dc-d0da-43dd-aaf2-a53cc39930b1\n",
      "[I 2025-01-27 21:22:02,393] Trial 8 finished with value: 0.1549844804902303 and parameters: {'n_estimators': 56, 'learning_rate': 0.04827538542059558}. Best is trial 8 with value: 0.1549844804902303.\n",
      "[I 2025-01-27 21:31:41,159] Trial 1 finished with value: 0.316185542857681 and parameters: {'n_estimators': 91, 'learning_rate': 0.868649991657305}. Best is trial 1 with value: 0.316185542857681.\n",
      "[I 2025-01-27 21:33:42,120] Trial 2 finished with value: 0.1549844804902303 and parameters: {'n_estimators': 165, 'learning_rate': 0.07271337108050346}. Best is trial 1 with value: 0.316185542857681.\n",
      "[I 2025-01-27 21:54:57,577] Trial 7 finished with value: 0.1549844804902303 and parameters: {'n_estimators': 202, 'learning_rate': 0.1629056548240236}. Best is trial 1 with value: 0.316185542857681.\n",
      "[I 2025-01-27 21:58:03,795] Trial 0 finished with value: 0.1549844804902303 and parameters: {'n_estimators': 59, 'learning_rate': 0.10531921323104279}. Best is trial 1 with value: 0.316185542857681.\n",
      "[I 2025-01-27 22:01:16,970] Trial 4 finished with value: 0.1549844804902303 and parameters: {'n_estimators': 98, 'learning_rate': 0.06517317871110548}. Best is trial 1 with value: 0.316185542857681.\n",
      "[I 2025-01-27 22:02:07,141] Trial 5 finished with value: 0.15557504899313723 and parameters: {'n_estimators': 230, 'learning_rate': 0.8675255344177547}. Best is trial 1 with value: 0.316185542857681.\n",
      "[I 2025-01-27 22:05:17,905] Trial 3 finished with value: 0.22346111071731073 and parameters: {'n_estimators': 407, 'learning_rate': 0.10858638808743001}. Best is trial 1 with value: 0.316185542857681.\n",
      "[I 2025-01-27 22:07:15,504] Trial 9 finished with value: 0.1549844804902303 and parameters: {'n_estimators': 467, 'learning_rate': 0.029651931389588566}. Best is trial 1 with value: 0.316185542857681.\n",
      "[I 2025-01-27 22:07:53,938] Trial 6 finished with value: 0.30776602862750857 and parameters: {'n_estimators': 500, 'learning_rate': 0.514526381733451}. Best is trial 1 with value: 0.316185542857681.\n"
     ]
    }
   ],
   "source": [
    "#Optuna study with stratified cross-validation\n",
    "study = optuna.create_study(direction='maximize')\n",
    "study.optimize(optimize_adaboost, n_trials=10, n_jobs=-1)"
   ]
  },
  {
   "cell_type": "code",
   "execution_count": 6,
   "id": "f7f9e534-718f-46b0-bd50-daceb5d0e678",
   "metadata": {},
   "outputs": [
    {
     "name": "stdout",
     "output_type": "stream",
     "text": [
      "Best parameters for AdaBoost: {'n_estimators': 91, 'learning_rate': 0.868649991657305}\n"
     ]
    }
   ],
   "source": [
    "#Best parameters\n",
    "print(f\"Best parameters for AdaBoost: {study.best_params}\")"
   ]
  },
  {
   "cell_type": "code",
   "execution_count": 7,
   "id": "b7993877-a4df-4d49-818e-83bdc402f364",
   "metadata": {
    "editable": true,
    "slideshow": {
     "slide_type": ""
    },
    "tags": []
   },
   "outputs": [],
   "source": [
    "#Final model training with optimized hyperparameters\n",
    "best_params = study.best_params\n",
    "optimized_adaboost = AdaBoostClassifier(**best_params, random_state=42, algorithm=\"SAMME\")\n",
    "kfold = StratifiedKFold(n_splits=10, shuffle=True, random_state=42)\n",
    "\n",
    "start_time = time.time()\n",
    "y_pred = cross_val_predict(optimized_adaboost, X_scaled, y, cv=kfold, n_jobs=-1)\n",
    "end_time = time.time()\n"
   ]
  },
  {
   "cell_type": "code",
   "execution_count": 8,
   "id": "a4cc5530-d3a8-424a-a63e-f7aebea89d56",
   "metadata": {},
   "outputs": [
    {
     "name": "stdout",
     "output_type": "stream",
     "text": [
      "Model training time: 495.53 seconds\n"
     ]
    }
   ],
   "source": [
    "#Evaluate the time it takes to train the model\n",
    "training_duration = end_time - start_time\n",
    "print(f\"Model training time: {training_duration:.2f} seconds\")"
   ]
  },
  {
   "cell_type": "code",
   "execution_count": 9,
   "id": "5dfc1a1e-2dd6-400c-a1c2-54eb0cd02daf",
   "metadata": {
    "editable": true,
    "slideshow": {
     "slide_type": ""
    },
    "tags": []
   },
   "outputs": [
    {
     "name": "stderr",
     "output_type": "stream",
     "text": [
      "C:\\Users\\FX505\\Documents\\tese_env\\Lib\\site-packages\\sklearn\\metrics\\_classification.py:1531: UndefinedMetricWarning: Precision is ill-defined and being set to 0.0 in labels with no predicted samples. Use `zero_division` parameter to control this behavior.\n",
      "  _warn_prf(average, modifier, f\"{metric.capitalize()} is\", len(result))\n",
      "C:\\Users\\FX505\\Documents\\tese_env\\Lib\\site-packages\\sklearn\\metrics\\_classification.py:1531: UndefinedMetricWarning: Precision is ill-defined and being set to 0.0 in labels with no predicted samples. Use `zero_division` parameter to control this behavior.\n",
      "  _warn_prf(average, modifier, f\"{metric.capitalize()} is\", len(result))\n"
     ]
    },
    {
     "name": "stdout",
     "output_type": "stream",
     "text": [
      "Classification Report:\n",
      "              precision    recall  f1-score   support\n",
      "\n",
      "           0       0.92      0.99      0.96   1223737\n",
      "           1       0.89      1.00      0.94     74663\n",
      "           2       0.00      0.00      0.00      9991\n",
      "           3       0.00      0.00      0.00     54900\n",
      "           4       0.00      0.00      0.00     24951\n",
      "           5       0.00      0.00      0.00     19977\n",
      "\n",
      "    accuracy                           0.92   1408219\n",
      "   macro avg       0.30      0.33      0.32   1408219\n",
      "weighted avg       0.85      0.92      0.88   1408219\n",
      "\n"
     ]
    },
    {
     "name": "stderr",
     "output_type": "stream",
     "text": [
      "C:\\Users\\FX505\\Documents\\tese_env\\Lib\\site-packages\\sklearn\\metrics\\_classification.py:1531: UndefinedMetricWarning: Precision is ill-defined and being set to 0.0 in labels with no predicted samples. Use `zero_division` parameter to control this behavior.\n",
      "  _warn_prf(average, modifier, f\"{metric.capitalize()} is\", len(result))\n"
     ]
    }
   ],
   "source": [
    "#Classification report\n",
    "report = classification_report(y, y_pred)\n",
    "print(f\"Classification Report:\\n{report}\")"
   ]
  },
  {
   "cell_type": "code",
   "execution_count": null,
   "id": "45510cc9-1ce0-4194-8b2d-e72dc55f924b",
   "metadata": {},
   "outputs": [],
   "source": []
  }
 ],
 "metadata": {
  "kernelspec": {
   "display_name": "Python 3 (ipykernel)",
   "language": "python",
   "name": "python3"
  },
  "language_info": {
   "codemirror_mode": {
    "name": "ipython",
    "version": 3
   },
   "file_extension": ".py",
   "mimetype": "text/x-python",
   "name": "python",
   "nbconvert_exporter": "python",
   "pygments_lexer": "ipython3",
   "version": "3.12.7"
  }
 },
 "nbformat": 4,
 "nbformat_minor": 5
}
