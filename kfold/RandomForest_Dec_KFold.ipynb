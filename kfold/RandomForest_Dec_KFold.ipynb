{
 "cells": [
  {
   "cell_type": "code",
   "execution_count": 1,
   "id": "6896b3fd-caff-4b79-b4d8-037e3574952a",
   "metadata": {
    "editable": true,
    "slideshow": {
     "slide_type": ""
    },
    "tags": []
   },
   "outputs": [],
   "source": [
    "#Imports\n",
    "import pandas as pd\n",
    "from sklearn.model_selection import StratifiedKFold, cross_val_score, cross_val_predict\n",
    "from sklearn.ensemble import RandomForestClassifier\n",
    "from sklearn.metrics import classification_report, make_scorer, f1_score\n",
    "from sklearn.preprocessing import LabelEncoder, StandardScaler\n",
    "import optuna\n",
    "from datetime import datetime\n",
    "import time"
   ]
  },
  {
   "cell_type": "code",
   "execution_count": 2,
   "id": "2897c231-c33d-42bd-bbac-398b6572778a",
   "metadata": {
    "editable": true,
    "slideshow": {
     "slide_type": ""
    },
    "tags": []
   },
   "outputs": [],
   "source": [
    "#Load the dataset\n",
    "df = pd.read_csv('complete_decimal_dataset.csv')"
   ]
  },
  {
   "cell_type": "code",
   "execution_count": 3,
   "id": "2a4eb970-07b7-41b9-a2ee-1bcc50b705c5",
   "metadata": {
    "editable": true,
    "slideshow": {
     "slide_type": ""
    },
    "tags": []
   },
   "outputs": [],
   "source": [
    "#Data Preprocessing\n",
    "label_encoder = LabelEncoder()\n",
    "df['specific_class_encoded'] = label_encoder.fit_transform(df['specific_class'])\n",
    "\n",
    "X_full = df.drop(columns=['label', 'category', 'specific_class', 'specific_class_encoded'])\n",
    "y_full = df['specific_class_encoded']\n",
    "\n",
    "scaler = StandardScaler()\n",
    "X_full_scaled = scaler.fit_transform(X_full)"
   ]
  },
  {
   "cell_type": "code",
   "execution_count": 4,
   "id": "2799fcd2-92fb-48c2-b57f-0cf1e71c8ec3",
   "metadata": {
    "editable": true,
    "slideshow": {
     "slide_type": ""
    },
    "tags": []
   },
   "outputs": [],
   "source": [
    "#Optimization Function\n",
    "def optimize_random_forest(trial):\n",
    "    n_estimators = trial.suggest_int('n_estimators', 50, 200)\n",
    "    max_depth = trial.suggest_int('max_depth', 2, 32, log=True)\n",
    "    min_samples_split = trial.suggest_int('min_samples_split', 2, 10)\n",
    "    \n",
    "    rf_model = RandomForestClassifier(\n",
    "        n_estimators=n_estimators, \n",
    "        max_depth=max_depth, \n",
    "        min_samples_split=min_samples_split, \n",
    "        random_state=42,\n",
    "        n_jobs=-1\n",
    "    )\n",
    "    \n",
    "    stratified_kfold = StratifiedKFold(n_splits=5, shuffle=True, random_state=42)\n",
    "    scorer = make_scorer(f1_score, average='macro')\n",
    "    scores = cross_val_score(rf_model, X_full_scaled, y_full, cv=stratified_kfold, scoring=scorer, n_jobs=-1).mean()\n",
    "    \n",
    "    return scores"
   ]
  },
  {
   "cell_type": "code",
   "execution_count": 5,
   "id": "4aebb13b-0ad7-4b23-b980-a478cc04df51",
   "metadata": {
    "editable": true,
    "slideshow": {
     "slide_type": ""
    },
    "tags": []
   },
   "outputs": [
    {
     "name": "stderr",
     "output_type": "stream",
     "text": [
      "[I 2025-01-27 19:45:47,980] A new study created in memory with name: no-name-86d28f6a-8566-4270-bb45-eccedf870dc1\n",
      "[I 2025-01-27 19:57:26,317] Trial 0 finished with value: 1.0 and parameters: {'n_estimators': 57, 'max_depth': 8, 'min_samples_split': 6}. Best is trial 0 with value: 1.0.\n",
      "[I 2025-01-27 20:00:42,990] Trial 8 finished with value: 1.0 and parameters: {'n_estimators': 113, 'max_depth': 17, 'min_samples_split': 5}. Best is trial 0 with value: 1.0.\n",
      "[I 2025-01-27 20:02:41,540] Trial 6 finished with value: 0.1549844804902303 and parameters: {'n_estimators': 178, 'max_depth': 2, 'min_samples_split': 3}. Best is trial 0 with value: 1.0.\n",
      "[I 2025-01-27 20:06:26,402] Trial 1 finished with value: 1.0 and parameters: {'n_estimators': 153, 'max_depth': 32, 'min_samples_split': 6}. Best is trial 0 with value: 1.0.\n",
      "[I 2025-01-27 20:11:17,270] Trial 9 finished with value: 1.0 and parameters: {'n_estimators': 135, 'max_depth': 32, 'min_samples_split': 2}. Best is trial 0 with value: 1.0.\n",
      "[I 2025-01-27 20:12:59,995] Trial 7 finished with value: 0.9251179856744475 and parameters: {'n_estimators': 173, 'max_depth': 4, 'min_samples_split': 6}. Best is trial 0 with value: 1.0.\n",
      "[I 2025-01-27 20:15:45,930] Trial 2 finished with value: 0.4144401357867671 and parameters: {'n_estimators': 196, 'max_depth': 3, 'min_samples_split': 9}. Best is trial 0 with value: 1.0.\n",
      "[I 2025-01-27 20:18:27,141] Trial 3 finished with value: 0.9999894259828181 and parameters: {'n_estimators': 163, 'max_depth': 19, 'min_samples_split': 7}. Best is trial 0 with value: 1.0.\n",
      "[I 2025-01-27 20:18:27,247] Trial 4 finished with value: 1.0 and parameters: {'n_estimators': 144, 'max_depth': 9, 'min_samples_split': 2}. Best is trial 0 with value: 1.0.\n",
      "[I 2025-01-27 20:18:39,378] Trial 5 finished with value: 0.1549844804902303 and parameters: {'n_estimators': 164, 'max_depth': 2, 'min_samples_split': 5}. Best is trial 0 with value: 1.0.\n"
     ]
    }
   ],
   "source": [
    "#Optuna study with stratified cross-validation\n",
    "study_rf = optuna.create_study(direction=\"maximize\")\n",
    "study_rf.optimize(optimize_random_forest, n_trials=10, n_jobs=-1)"
   ]
  },
  {
   "cell_type": "code",
   "execution_count": 6,
   "id": "676eede9-42d0-4acb-968b-9bf38da9282a",
   "metadata": {
    "editable": true,
    "slideshow": {
     "slide_type": ""
    },
    "tags": []
   },
   "outputs": [
    {
     "name": "stdout",
     "output_type": "stream",
     "text": [
      "Best parameters for Random Forest: {'n_estimators': 57, 'max_depth': 8, 'min_samples_split': 6}\n"
     ]
    }
   ],
   "source": [
    "#Best parameters\n",
    "print(f\"Best parameters for Random Forest: {study_rf.best_params}\")"
   ]
  },
  {
   "cell_type": "code",
   "execution_count": 7,
   "id": "25cc6532-c684-4736-a147-ea0bbca57f05",
   "metadata": {
    "editable": true,
    "slideshow": {
     "slide_type": ""
    },
    "tags": []
   },
   "outputs": [],
   "source": [
    "#Final model training with optimized hyperparameters\n",
    "best_rf = RandomForestClassifier(**study_rf.best_params, random_state=42)\n",
    "stratified_kfold = StratifiedKFold(n_splits=10, shuffle=True, random_state=42)\n",
    "\n",
    "start_time = time.time()\n",
    "y_pred = cross_val_predict(best_rf, X_full_scaled, y_full, cv=stratified_kfold, n_jobs=-1)\n",
    "end_time = time.time()\n"
   ]
  },
  {
   "cell_type": "code",
   "execution_count": 8,
   "id": "444291a1-50ea-4910-93df-934c9be5f858",
   "metadata": {
    "editable": true,
    "slideshow": {
     "slide_type": ""
    },
    "tags": []
   },
   "outputs": [
    {
     "name": "stdout",
     "output_type": "stream",
     "text": [
      "Model training time: 238.20 seconds\n"
     ]
    }
   ],
   "source": [
    "#Evaluate the time it takes to train the model\n",
    "training_duration = end_time - start_time\n",
    "print(f\"Model training time: {training_duration:.2f} seconds\")"
   ]
  },
  {
   "cell_type": "code",
   "execution_count": 9,
   "id": "4ce9cc6d-1c3d-4b47-8cab-75747bae79d8",
   "metadata": {
    "editable": true,
    "slideshow": {
     "slide_type": ""
    },
    "tags": []
   },
   "outputs": [
    {
     "name": "stdout",
     "output_type": "stream",
     "text": [
      "Classification Report:\n",
      "\n",
      "              precision    recall  f1-score   support\n",
      "\n",
      "           0       1.00      1.00      1.00   1223737\n",
      "           1       1.00      1.00      1.00     74663\n",
      "           2       1.00      1.00      1.00      9991\n",
      "           3       1.00      1.00      1.00     54900\n",
      "           4       1.00      1.00      1.00     24951\n",
      "           5       1.00      1.00      1.00     19977\n",
      "\n",
      "    accuracy                           1.00   1408219\n",
      "   macro avg       1.00      1.00      1.00   1408219\n",
      "weighted avg       1.00      1.00      1.00   1408219\n",
      "\n"
     ]
    }
   ],
   "source": [
    "report = classification_report(y_full, y_pred)\n",
    "print(\"Classification Report:\\n\")\n",
    "print(report)"
   ]
  }
 ],
 "metadata": {
  "kernelspec": {
   "display_name": "Python 3 (ipykernel)",
   "language": "python",
   "name": "python3"
  },
  "language_info": {
   "codemirror_mode": {
    "name": "ipython",
    "version": 3
   },
   "file_extension": ".py",
   "mimetype": "text/x-python",
   "name": "python",
   "nbconvert_exporter": "python",
   "pygments_lexer": "ipython3",
   "version": "3.12.7"
  }
 },
 "nbformat": 4,
 "nbformat_minor": 5
}
